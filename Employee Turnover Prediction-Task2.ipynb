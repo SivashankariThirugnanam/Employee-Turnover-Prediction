{
 "cells": [
  {
   "cell_type": "markdown",
   "id": "07920de9",
   "metadata": {},
   "source": [
    "# Employee Turnover Prediction\n",
    "\n",
    "Problem statement: \n",
    "\n",
    "The goal is to find out the employees who stay and leave the company in the upcoming year.Based on the given features,we performed Exploratory Data Analysis, Descriptive Statistical Analysis, Outlier analysis, Feature Engineering, and Feature Selection and made the change as per requirements.Created Data visualizations using Seaborn and Matplotlib libraries to find the insight patterns.Used Machine Learning algorithms to build predictive models to find out the best accuracy."
   ]
  },
  {
   "cell_type": "markdown",
   "id": "3d62c623",
   "metadata": {},
   "source": [
    "# Project Task 2: Feature Engineering\n",
    "\n",
    "Task Explanation :\n",
    "\n",
    "● Look for missing values and duplicate values and find a way to clean it.\n",
    "\n",
    "● Perform outlier analysis on numerical features. Use any method to get rid of outliers.\n",
    "\n",
    "● Evaluate the target variable, find patterns and insights from data using visualizations.\n",
    "\n",
    "● Nature of employees who stay, nature of employees who leave.\n"
   ]
  },
  {
   "cell_type": "markdown",
   "id": "70dc443d",
   "metadata": {},
   "source": [
    "# Importing Libraries"
   ]
  },
  {
   "cell_type": "code",
   "execution_count": 1,
   "id": "2dc8b707",
   "metadata": {},
   "outputs": [],
   "source": [
    "#for Manipulations\n",
    "import pandas as pd\n",
    "import numpy as np\n",
    "\n",
    "#for Data visualizations\n",
    "import matplotlib.pyplot as plt\n",
    "%matplotlib inline\n",
    "import seaborn as sns\n",
    "\n",
    "#for Scientific computations\n",
    "from scipy import stats\n",
    "from sklearn.preprocessing import LabelEncoder\n",
    "\n",
    "#To Ignore warnings\n",
    "import warnings\n",
    "warnings.filterwarnings(\"ignore\")\n"
   ]
  },
  {
   "cell_type": "markdown",
   "id": "f06aa1ce",
   "metadata": {},
   "source": [
    "# Reading the Dataset"
   ]
  },
  {
   "cell_type": "code",
   "execution_count": 2,
   "id": "e68a344a",
   "metadata": {},
   "outputs": [],
   "source": [
    "import os"
   ]
  },
  {
   "cell_type": "code",
   "execution_count": 3,
   "id": "9ccb9cc0",
   "metadata": {},
   "outputs": [],
   "source": [
    "emp = pd.read_csv('employee.csv')"
   ]
  },
  {
   "cell_type": "code",
   "execution_count": 4,
   "id": "27025deb",
   "metadata": {},
   "outputs": [
    {
     "data": {
      "text/html": [
       "<div>\n",
       "<style scoped>\n",
       "    .dataframe tbody tr th:only-of-type {\n",
       "        vertical-align: middle;\n",
       "    }\n",
       "\n",
       "    .dataframe tbody tr th {\n",
       "        vertical-align: top;\n",
       "    }\n",
       "\n",
       "    .dataframe thead th {\n",
       "        text-align: right;\n",
       "    }\n",
       "</style>\n",
       "<table border=\"1\" class=\"dataframe\">\n",
       "  <thead>\n",
       "    <tr style=\"text-align: right;\">\n",
       "      <th></th>\n",
       "      <th>EmployeId</th>\n",
       "      <th>Age</th>\n",
       "      <th>Gender</th>\n",
       "      <th>MaritalStatus</th>\n",
       "      <th>Turnover</th>\n",
       "      <th>Travelling</th>\n",
       "      <th>Vertical</th>\n",
       "      <th>Qualifications</th>\n",
       "      <th>EducationField</th>\n",
       "      <th>EmployeSatisfaction</th>\n",
       "      <th>...</th>\n",
       "      <th>RelationshipSatisfaction</th>\n",
       "      <th>Hours</th>\n",
       "      <th>StockOptionLevel</th>\n",
       "      <th>TrainingTimesLastYear</th>\n",
       "      <th>Work&amp;Life</th>\n",
       "      <th>YearsAtCompany</th>\n",
       "      <th>YearsInCurrentRole</th>\n",
       "      <th>YearsSinceLastPromotion</th>\n",
       "      <th>YearsWithCurrentManager</th>\n",
       "      <th>DistanceFromHome</th>\n",
       "    </tr>\n",
       "  </thead>\n",
       "  <tbody>\n",
       "    <tr>\n",
       "      <th>0</th>\n",
       "      <td>63</td>\n",
       "      <td>29</td>\n",
       "      <td>M</td>\n",
       "      <td>Divorced</td>\n",
       "      <td>No</td>\n",
       "      <td>Sometimes</td>\n",
       "      <td>Research &amp; Development</td>\n",
       "      <td>1</td>\n",
       "      <td>Medical</td>\n",
       "      <td>3</td>\n",
       "      <td>...</td>\n",
       "      <td>4</td>\n",
       "      <td>80</td>\n",
       "      <td>1</td>\n",
       "      <td>2</td>\n",
       "      <td>3</td>\n",
       "      <td>3</td>\n",
       "      <td>2</td>\n",
       "      <td>2</td>\n",
       "      <td>2</td>\n",
       "      <td>2</td>\n",
       "    </tr>\n",
       "    <tr>\n",
       "      <th>1</th>\n",
       "      <td>723</td>\n",
       "      <td>23</td>\n",
       "      <td>M</td>\n",
       "      <td>Single</td>\n",
       "      <td>No</td>\n",
       "      <td>Mostly</td>\n",
       "      <td>Sales</td>\n",
       "      <td>1</td>\n",
       "      <td>Life Sciences</td>\n",
       "      <td>2</td>\n",
       "      <td>...</td>\n",
       "      <td>4</td>\n",
       "      <td>80</td>\n",
       "      <td>0</td>\n",
       "      <td>3</td>\n",
       "      <td>3</td>\n",
       "      <td>1</td>\n",
       "      <td>0</td>\n",
       "      <td>0</td>\n",
       "      <td>0</td>\n",
       "      <td>6</td>\n",
       "    </tr>\n",
       "    <tr>\n",
       "      <th>2</th>\n",
       "      <td>1297</td>\n",
       "      <td>36</td>\n",
       "      <td>M</td>\n",
       "      <td>Single</td>\n",
       "      <td>Yes</td>\n",
       "      <td>Sometimes</td>\n",
       "      <td>Human Resources</td>\n",
       "      <td>4</td>\n",
       "      <td>Life Sciences</td>\n",
       "      <td>2</td>\n",
       "      <td>...</td>\n",
       "      <td>3</td>\n",
       "      <td>80</td>\n",
       "      <td>0</td>\n",
       "      <td>3</td>\n",
       "      <td>4</td>\n",
       "      <td>7</td>\n",
       "      <td>7</td>\n",
       "      <td>0</td>\n",
       "      <td>0</td>\n",
       "      <td>10</td>\n",
       "    </tr>\n",
       "    <tr>\n",
       "      <th>3</th>\n",
       "      <td>51</td>\n",
       "      <td>30</td>\n",
       "      <td>M</td>\n",
       "      <td>Divorced</td>\n",
       "      <td>No</td>\n",
       "      <td>Sometimes</td>\n",
       "      <td>Research &amp; Development</td>\n",
       "      <td>4</td>\n",
       "      <td>Medical</td>\n",
       "      <td>3</td>\n",
       "      <td>...</td>\n",
       "      <td>2</td>\n",
       "      <td>80</td>\n",
       "      <td>3</td>\n",
       "      <td>5</td>\n",
       "      <td>3</td>\n",
       "      <td>10</td>\n",
       "      <td>6</td>\n",
       "      <td>3</td>\n",
       "      <td>9</td>\n",
       "      <td>12</td>\n",
       "    </tr>\n",
       "    <tr>\n",
       "      <th>4</th>\n",
       "      <td>1498</td>\n",
       "      <td>29</td>\n",
       "      <td>M</td>\n",
       "      <td>Single</td>\n",
       "      <td>Yes</td>\n",
       "      <td>Sometimes</td>\n",
       "      <td>Sales</td>\n",
       "      <td>3</td>\n",
       "      <td>Technical Degree</td>\n",
       "      <td>4</td>\n",
       "      <td>...</td>\n",
       "      <td>1</td>\n",
       "      <td>80</td>\n",
       "      <td>0</td>\n",
       "      <td>2</td>\n",
       "      <td>3</td>\n",
       "      <td>3</td>\n",
       "      <td>2</td>\n",
       "      <td>2</td>\n",
       "      <td>2</td>\n",
       "      <td>24</td>\n",
       "    </tr>\n",
       "  </tbody>\n",
       "</table>\n",
       "<p>5 rows × 32 columns</p>\n",
       "</div>"
      ],
      "text/plain": [
       "   EmployeId  Age Gender MaritalStatus Turnover Travelling  \\\n",
       "0         63   29      M      Divorced       No  Sometimes   \n",
       "1        723   23      M        Single       No     Mostly   \n",
       "2       1297   36      M        Single      Yes  Sometimes   \n",
       "3         51   30      M      Divorced       No  Sometimes   \n",
       "4       1498   29      M        Single      Yes  Sometimes   \n",
       "\n",
       "                 Vertical  Qualifications    EducationField  \\\n",
       "0  Research & Development               1           Medical   \n",
       "1                   Sales               1     Life Sciences   \n",
       "2         Human Resources               4     Life Sciences   \n",
       "3  Research & Development               4           Medical   \n",
       "4                   Sales               3  Technical Degree   \n",
       "\n",
       "   EmployeSatisfaction  ...  RelationshipSatisfaction  Hours  \\\n",
       "0                    3  ...                         4     80   \n",
       "1                    2  ...                         4     80   \n",
       "2                    2  ...                         3     80   \n",
       "3                    3  ...                         2     80   \n",
       "4                    4  ...                         1     80   \n",
       "\n",
       "   StockOptionLevel TrainingTimesLastYear  Work&Life  YearsAtCompany  \\\n",
       "0                 1                     2          3               3   \n",
       "1                 0                     3          3               1   \n",
       "2                 0                     3          4               7   \n",
       "3                 3                     5          3              10   \n",
       "4                 0                     2          3               3   \n",
       "\n",
       "   YearsInCurrentRole  YearsSinceLastPromotion  YearsWithCurrentManager  \\\n",
       "0                   2                        2                        2   \n",
       "1                   0                        0                        0   \n",
       "2                   7                        0                        0   \n",
       "3                   6                        3                        9   \n",
       "4                   2                        2                        2   \n",
       "\n",
       "  DistanceFromHome  \n",
       "0                2  \n",
       "1                6  \n",
       "2               10  \n",
       "3               12  \n",
       "4               24  \n",
       "\n",
       "[5 rows x 32 columns]"
      ]
     },
     "execution_count": 4,
     "metadata": {},
     "output_type": "execute_result"
    }
   ],
   "source": [
    "emp.head()"
   ]
  },
  {
   "cell_type": "code",
   "execution_count": 5,
   "id": "d73583e6",
   "metadata": {},
   "outputs": [
    {
     "data": {
      "text/plain": [
       "Index(['EmployeId', 'Age', 'Gender', 'MaritalStatus', 'Turnover', 'Travelling',\n",
       "       'Vertical', 'Qualifications', 'EducationField', 'EmployeSatisfaction',\n",
       "       'JobEngagement', 'JobLevel', 'JobSatisfaction', 'Role', 'DailyBilling',\n",
       "       'HourBilling', 'MonthlyBilling', 'MonthlyRate', 'Work Experience',\n",
       "       'OverTime', 'PercentSalaryHike', 'Last Rating',\n",
       "       'RelationshipSatisfaction', 'Hours', 'StockOptionLevel',\n",
       "       'TrainingTimesLastYear', 'Work&Life', 'YearsAtCompany',\n",
       "       'YearsInCurrentRole', 'YearsSinceLastPromotion',\n",
       "       'YearsWithCurrentManager', 'DistanceFromHome'],\n",
       "      dtype='object')"
      ]
     },
     "execution_count": 5,
     "metadata": {},
     "output_type": "execute_result"
    }
   ],
   "source": [
    "#Checking the columns\n",
    "emp.columns"
   ]
  },
  {
   "cell_type": "code",
   "execution_count": 6,
   "id": "f2af9b31",
   "metadata": {},
   "outputs": [
    {
     "data": {
      "text/plain": [
       "(1470, 32)"
      ]
     },
     "execution_count": 6,
     "metadata": {},
     "output_type": "execute_result"
    }
   ],
   "source": [
    "#Checking the shape of the dataset\n",
    "emp.shape"
   ]
  },
  {
   "cell_type": "markdown",
   "id": "6b8b5b27",
   "metadata": {},
   "source": [
    "# Look for missing values and duplicate values¶"
   ]
  },
  {
   "cell_type": "code",
   "execution_count": 7,
   "id": "19494746",
   "metadata": {},
   "outputs": [
    {
     "data": {
      "text/plain": [
       "EmployeId                   0\n",
       "Age                         0\n",
       "Gender                      0\n",
       "MaritalStatus               0\n",
       "Turnover                    0\n",
       "Travelling                  0\n",
       "Vertical                    0\n",
       "Qualifications              0\n",
       "EducationField              0\n",
       "EmployeSatisfaction         0\n",
       "JobEngagement               0\n",
       "JobLevel                    0\n",
       "JobSatisfaction             0\n",
       "Role                        0\n",
       "DailyBilling                0\n",
       "HourBilling                 0\n",
       "MonthlyBilling              0\n",
       "MonthlyRate                 0\n",
       "Work Experience             0\n",
       "OverTime                    0\n",
       "PercentSalaryHike           0\n",
       "Last Rating                 0\n",
       "RelationshipSatisfaction    0\n",
       "Hours                       0\n",
       "StockOptionLevel            0\n",
       "TrainingTimesLastYear       0\n",
       "Work&Life                   0\n",
       "YearsAtCompany              0\n",
       "YearsInCurrentRole          0\n",
       "YearsSinceLastPromotion     0\n",
       "YearsWithCurrentManager     0\n",
       "DistanceFromHome            0\n",
       "dtype: int64"
      ]
     },
     "execution_count": 7,
     "metadata": {},
     "output_type": "execute_result"
    }
   ],
   "source": [
    "#Checking Missing Values\n",
    "emp.isnull().sum()"
   ]
  },
  {
   "cell_type": "code",
   "execution_count": 8,
   "id": "e1ecb97f",
   "metadata": {},
   "outputs": [
    {
     "data": {
      "text/plain": [
       "0"
      ]
     },
     "execution_count": 8,
     "metadata": {},
     "output_type": "execute_result"
    }
   ],
   "source": [
    "#Checking Duplicates\n",
    "emp.duplicated().sum()"
   ]
  },
  {
   "cell_type": "code",
   "execution_count": 9,
   "id": "b37dbf49",
   "metadata": {},
   "outputs": [
    {
     "name": "stdout",
     "output_type": "stream",
     "text": [
      "<class 'pandas.core.frame.DataFrame'>\n",
      "RangeIndex: 1470 entries, 0 to 1469\n",
      "Data columns (total 32 columns):\n",
      " #   Column                    Non-Null Count  Dtype \n",
      "---  ------                    --------------  ----- \n",
      " 0   EmployeId                 1470 non-null   int64 \n",
      " 1   Age                       1470 non-null   int64 \n",
      " 2   Gender                    1470 non-null   object\n",
      " 3   MaritalStatus             1470 non-null   object\n",
      " 4   Turnover                  1470 non-null   object\n",
      " 5   Travelling                1470 non-null   object\n",
      " 6   Vertical                  1470 non-null   object\n",
      " 7   Qualifications            1470 non-null   int64 \n",
      " 8   EducationField            1470 non-null   object\n",
      " 9   EmployeSatisfaction       1470 non-null   int64 \n",
      " 10  JobEngagement             1470 non-null   int64 \n",
      " 11  JobLevel                  1470 non-null   int64 \n",
      " 12  JobSatisfaction           1470 non-null   int64 \n",
      " 13  Role                      1470 non-null   object\n",
      " 14  DailyBilling              1470 non-null   int64 \n",
      " 15  HourBilling               1470 non-null   int64 \n",
      " 16  MonthlyBilling            1470 non-null   int64 \n",
      " 17  MonthlyRate               1470 non-null   int64 \n",
      " 18  Work Experience           1470 non-null   int64 \n",
      " 19  OverTime                  1470 non-null   object\n",
      " 20  PercentSalaryHike         1470 non-null   int64 \n",
      " 21  Last Rating               1470 non-null   int64 \n",
      " 22  RelationshipSatisfaction  1470 non-null   int64 \n",
      " 23  Hours                     1470 non-null   int64 \n",
      " 24  StockOptionLevel          1470 non-null   int64 \n",
      " 25  TrainingTimesLastYear     1470 non-null   int64 \n",
      " 26  Work&Life                 1470 non-null   int64 \n",
      " 27  YearsAtCompany            1470 non-null   int64 \n",
      " 28  YearsInCurrentRole        1470 non-null   int64 \n",
      " 29  YearsSinceLastPromotion   1470 non-null   int64 \n",
      " 30  YearsWithCurrentManager   1470 non-null   int64 \n",
      " 31  DistanceFromHome          1470 non-null   int64 \n",
      "dtypes: int64(24), object(8)\n",
      "memory usage: 367.6+ KB\n"
     ]
    }
   ],
   "source": [
    "emp.info()"
   ]
  },
  {
   "cell_type": "markdown",
   "id": "3d85f4d4",
   "metadata": {},
   "source": [
    "# Perform Outlier analysis on numerical features, so necessary features are converted into numerical features by using label encoder"
   ]
  },
  {
   "cell_type": "code",
   "execution_count": 10,
   "id": "c797362a",
   "metadata": {},
   "outputs": [
    {
     "data": {
      "text/html": [
       "<div>\n",
       "<style scoped>\n",
       "    .dataframe tbody tr th:only-of-type {\n",
       "        vertical-align: middle;\n",
       "    }\n",
       "\n",
       "    .dataframe tbody tr th {\n",
       "        vertical-align: top;\n",
       "    }\n",
       "\n",
       "    .dataframe thead th {\n",
       "        text-align: right;\n",
       "    }\n",
       "</style>\n",
       "<table border=\"1\" class=\"dataframe\">\n",
       "  <thead>\n",
       "    <tr style=\"text-align: right;\">\n",
       "      <th></th>\n",
       "      <th>EmployeId</th>\n",
       "      <th>Age</th>\n",
       "      <th>Gender</th>\n",
       "      <th>MaritalStatus</th>\n",
       "      <th>Turnover</th>\n",
       "      <th>Travelling</th>\n",
       "      <th>Vertical</th>\n",
       "      <th>Qualifications</th>\n",
       "      <th>EducationField</th>\n",
       "      <th>EmployeSatisfaction</th>\n",
       "      <th>...</th>\n",
       "      <th>RelationshipSatisfaction</th>\n",
       "      <th>Hours</th>\n",
       "      <th>StockOptionLevel</th>\n",
       "      <th>TrainingTimesLastYear</th>\n",
       "      <th>Work&amp;Life</th>\n",
       "      <th>YearsAtCompany</th>\n",
       "      <th>YearsInCurrentRole</th>\n",
       "      <th>YearsSinceLastPromotion</th>\n",
       "      <th>YearsWithCurrentManager</th>\n",
       "      <th>DistanceFromHome</th>\n",
       "    </tr>\n",
       "  </thead>\n",
       "  <tbody>\n",
       "    <tr>\n",
       "      <th>0</th>\n",
       "      <td>63</td>\n",
       "      <td>29</td>\n",
       "      <td>M</td>\n",
       "      <td>Divorced</td>\n",
       "      <td>No</td>\n",
       "      <td>Sometimes</td>\n",
       "      <td>Research &amp; Development</td>\n",
       "      <td>1</td>\n",
       "      <td>Medical</td>\n",
       "      <td>3</td>\n",
       "      <td>...</td>\n",
       "      <td>4</td>\n",
       "      <td>80</td>\n",
       "      <td>1</td>\n",
       "      <td>2</td>\n",
       "      <td>3</td>\n",
       "      <td>3</td>\n",
       "      <td>2</td>\n",
       "      <td>2</td>\n",
       "      <td>2</td>\n",
       "      <td>2</td>\n",
       "    </tr>\n",
       "    <tr>\n",
       "      <th>1</th>\n",
       "      <td>723</td>\n",
       "      <td>23</td>\n",
       "      <td>M</td>\n",
       "      <td>Single</td>\n",
       "      <td>No</td>\n",
       "      <td>Mostly</td>\n",
       "      <td>Sales</td>\n",
       "      <td>1</td>\n",
       "      <td>Life Sciences</td>\n",
       "      <td>2</td>\n",
       "      <td>...</td>\n",
       "      <td>4</td>\n",
       "      <td>80</td>\n",
       "      <td>0</td>\n",
       "      <td>3</td>\n",
       "      <td>3</td>\n",
       "      <td>1</td>\n",
       "      <td>0</td>\n",
       "      <td>0</td>\n",
       "      <td>0</td>\n",
       "      <td>6</td>\n",
       "    </tr>\n",
       "    <tr>\n",
       "      <th>2</th>\n",
       "      <td>1297</td>\n",
       "      <td>36</td>\n",
       "      <td>M</td>\n",
       "      <td>Single</td>\n",
       "      <td>Yes</td>\n",
       "      <td>Sometimes</td>\n",
       "      <td>Human Resources</td>\n",
       "      <td>4</td>\n",
       "      <td>Life Sciences</td>\n",
       "      <td>2</td>\n",
       "      <td>...</td>\n",
       "      <td>3</td>\n",
       "      <td>80</td>\n",
       "      <td>0</td>\n",
       "      <td>3</td>\n",
       "      <td>4</td>\n",
       "      <td>7</td>\n",
       "      <td>7</td>\n",
       "      <td>0</td>\n",
       "      <td>0</td>\n",
       "      <td>10</td>\n",
       "    </tr>\n",
       "    <tr>\n",
       "      <th>3</th>\n",
       "      <td>51</td>\n",
       "      <td>30</td>\n",
       "      <td>M</td>\n",
       "      <td>Divorced</td>\n",
       "      <td>No</td>\n",
       "      <td>Sometimes</td>\n",
       "      <td>Research &amp; Development</td>\n",
       "      <td>4</td>\n",
       "      <td>Medical</td>\n",
       "      <td>3</td>\n",
       "      <td>...</td>\n",
       "      <td>2</td>\n",
       "      <td>80</td>\n",
       "      <td>3</td>\n",
       "      <td>5</td>\n",
       "      <td>3</td>\n",
       "      <td>10</td>\n",
       "      <td>6</td>\n",
       "      <td>3</td>\n",
       "      <td>9</td>\n",
       "      <td>12</td>\n",
       "    </tr>\n",
       "    <tr>\n",
       "      <th>4</th>\n",
       "      <td>1498</td>\n",
       "      <td>29</td>\n",
       "      <td>M</td>\n",
       "      <td>Single</td>\n",
       "      <td>Yes</td>\n",
       "      <td>Sometimes</td>\n",
       "      <td>Sales</td>\n",
       "      <td>3</td>\n",
       "      <td>Technical Degree</td>\n",
       "      <td>4</td>\n",
       "      <td>...</td>\n",
       "      <td>1</td>\n",
       "      <td>80</td>\n",
       "      <td>0</td>\n",
       "      <td>2</td>\n",
       "      <td>3</td>\n",
       "      <td>3</td>\n",
       "      <td>2</td>\n",
       "      <td>2</td>\n",
       "      <td>2</td>\n",
       "      <td>24</td>\n",
       "    </tr>\n",
       "  </tbody>\n",
       "</table>\n",
       "<p>5 rows × 32 columns</p>\n",
       "</div>"
      ],
      "text/plain": [
       "   EmployeId  Age Gender MaritalStatus Turnover Travelling  \\\n",
       "0         63   29      M      Divorced       No  Sometimes   \n",
       "1        723   23      M        Single       No     Mostly   \n",
       "2       1297   36      M        Single      Yes  Sometimes   \n",
       "3         51   30      M      Divorced       No  Sometimes   \n",
       "4       1498   29      M        Single      Yes  Sometimes   \n",
       "\n",
       "                 Vertical  Qualifications    EducationField  \\\n",
       "0  Research & Development               1           Medical   \n",
       "1                   Sales               1     Life Sciences   \n",
       "2         Human Resources               4     Life Sciences   \n",
       "3  Research & Development               4           Medical   \n",
       "4                   Sales               3  Technical Degree   \n",
       "\n",
       "   EmployeSatisfaction  ...  RelationshipSatisfaction  Hours  \\\n",
       "0                    3  ...                         4     80   \n",
       "1                    2  ...                         4     80   \n",
       "2                    2  ...                         3     80   \n",
       "3                    3  ...                         2     80   \n",
       "4                    4  ...                         1     80   \n",
       "\n",
       "   StockOptionLevel TrainingTimesLastYear  Work&Life  YearsAtCompany  \\\n",
       "0                 1                     2          3               3   \n",
       "1                 0                     3          3               1   \n",
       "2                 0                     3          4               7   \n",
       "3                 3                     5          3              10   \n",
       "4                 0                     2          3               3   \n",
       "\n",
       "   YearsInCurrentRole  YearsSinceLastPromotion  YearsWithCurrentManager  \\\n",
       "0                   2                        2                        2   \n",
       "1                   0                        0                        0   \n",
       "2                   7                        0                        0   \n",
       "3                   6                        3                        9   \n",
       "4                   2                        2                        2   \n",
       "\n",
       "  DistanceFromHome  \n",
       "0                2  \n",
       "1                6  \n",
       "2               10  \n",
       "3               12  \n",
       "4               24  \n",
       "\n",
       "[5 rows x 32 columns]"
      ]
     },
     "execution_count": 10,
     "metadata": {},
     "output_type": "execute_result"
    }
   ],
   "source": [
    "emp.head()"
   ]
  },
  {
   "cell_type": "code",
   "execution_count": 11,
   "id": "ecf3f9fd",
   "metadata": {},
   "outputs": [
    {
     "name": "stdout",
     "output_type": "stream",
     "text": [
      "LabelEncoder()\n"
     ]
    }
   ],
   "source": [
    "le = LabelEncoder()\n",
    "print(le)"
   ]
  },
  {
   "cell_type": "code",
   "execution_count": 12,
   "id": "b1d99bfd",
   "metadata": {},
   "outputs": [],
   "source": [
    "#Necessary features are converted into numerical features\n",
    "emp['YearsAtCompany'] = le.fit_transform(emp['YearsAtCompany'])\n",
    "emp['Gender'] = le.fit_transform(emp['Gender'])\n",
    "emp['MaritalStatus'] = le.fit_transform(emp['MaritalStatus'])\n",
    "emp['Turnover'] = le.fit_transform(emp['Turnover'])\n",
    "emp['Travelling'] = le.fit_transform(emp['Travelling'])"
   ]
  },
  {
   "cell_type": "code",
   "execution_count": 13,
   "id": "1c584297",
   "metadata": {},
   "outputs": [
    {
     "data": {
      "text/html": [
       "<div>\n",
       "<style scoped>\n",
       "    .dataframe tbody tr th:only-of-type {\n",
       "        vertical-align: middle;\n",
       "    }\n",
       "\n",
       "    .dataframe tbody tr th {\n",
       "        vertical-align: top;\n",
       "    }\n",
       "\n",
       "    .dataframe thead th {\n",
       "        text-align: right;\n",
       "    }\n",
       "</style>\n",
       "<table border=\"1\" class=\"dataframe\">\n",
       "  <thead>\n",
       "    <tr style=\"text-align: right;\">\n",
       "      <th></th>\n",
       "      <th>EmployeId</th>\n",
       "      <th>Age</th>\n",
       "      <th>Gender</th>\n",
       "      <th>MaritalStatus</th>\n",
       "      <th>Turnover</th>\n",
       "      <th>Travelling</th>\n",
       "      <th>Vertical</th>\n",
       "      <th>Qualifications</th>\n",
       "      <th>EducationField</th>\n",
       "      <th>EmployeSatisfaction</th>\n",
       "      <th>...</th>\n",
       "      <th>RelationshipSatisfaction</th>\n",
       "      <th>Hours</th>\n",
       "      <th>StockOptionLevel</th>\n",
       "      <th>TrainingTimesLastYear</th>\n",
       "      <th>Work&amp;Life</th>\n",
       "      <th>YearsAtCompany</th>\n",
       "      <th>YearsInCurrentRole</th>\n",
       "      <th>YearsSinceLastPromotion</th>\n",
       "      <th>YearsWithCurrentManager</th>\n",
       "      <th>DistanceFromHome</th>\n",
       "    </tr>\n",
       "  </thead>\n",
       "  <tbody>\n",
       "    <tr>\n",
       "      <th>0</th>\n",
       "      <td>63</td>\n",
       "      <td>29</td>\n",
       "      <td>1</td>\n",
       "      <td>0</td>\n",
       "      <td>0</td>\n",
       "      <td>2</td>\n",
       "      <td>Research &amp; Development</td>\n",
       "      <td>1</td>\n",
       "      <td>Medical</td>\n",
       "      <td>3</td>\n",
       "      <td>...</td>\n",
       "      <td>4</td>\n",
       "      <td>80</td>\n",
       "      <td>1</td>\n",
       "      <td>2</td>\n",
       "      <td>3</td>\n",
       "      <td>3</td>\n",
       "      <td>2</td>\n",
       "      <td>2</td>\n",
       "      <td>2</td>\n",
       "      <td>2</td>\n",
       "    </tr>\n",
       "    <tr>\n",
       "      <th>1</th>\n",
       "      <td>723</td>\n",
       "      <td>23</td>\n",
       "      <td>1</td>\n",
       "      <td>2</td>\n",
       "      <td>0</td>\n",
       "      <td>0</td>\n",
       "      <td>Sales</td>\n",
       "      <td>1</td>\n",
       "      <td>Life Sciences</td>\n",
       "      <td>2</td>\n",
       "      <td>...</td>\n",
       "      <td>4</td>\n",
       "      <td>80</td>\n",
       "      <td>0</td>\n",
       "      <td>3</td>\n",
       "      <td>3</td>\n",
       "      <td>1</td>\n",
       "      <td>0</td>\n",
       "      <td>0</td>\n",
       "      <td>0</td>\n",
       "      <td>6</td>\n",
       "    </tr>\n",
       "    <tr>\n",
       "      <th>2</th>\n",
       "      <td>1297</td>\n",
       "      <td>36</td>\n",
       "      <td>1</td>\n",
       "      <td>2</td>\n",
       "      <td>1</td>\n",
       "      <td>2</td>\n",
       "      <td>Human Resources</td>\n",
       "      <td>4</td>\n",
       "      <td>Life Sciences</td>\n",
       "      <td>2</td>\n",
       "      <td>...</td>\n",
       "      <td>3</td>\n",
       "      <td>80</td>\n",
       "      <td>0</td>\n",
       "      <td>3</td>\n",
       "      <td>4</td>\n",
       "      <td>7</td>\n",
       "      <td>7</td>\n",
       "      <td>0</td>\n",
       "      <td>0</td>\n",
       "      <td>10</td>\n",
       "    </tr>\n",
       "    <tr>\n",
       "      <th>3</th>\n",
       "      <td>51</td>\n",
       "      <td>30</td>\n",
       "      <td>1</td>\n",
       "      <td>0</td>\n",
       "      <td>0</td>\n",
       "      <td>2</td>\n",
       "      <td>Research &amp; Development</td>\n",
       "      <td>4</td>\n",
       "      <td>Medical</td>\n",
       "      <td>3</td>\n",
       "      <td>...</td>\n",
       "      <td>2</td>\n",
       "      <td>80</td>\n",
       "      <td>3</td>\n",
       "      <td>5</td>\n",
       "      <td>3</td>\n",
       "      <td>10</td>\n",
       "      <td>6</td>\n",
       "      <td>3</td>\n",
       "      <td>9</td>\n",
       "      <td>12</td>\n",
       "    </tr>\n",
       "    <tr>\n",
       "      <th>4</th>\n",
       "      <td>1498</td>\n",
       "      <td>29</td>\n",
       "      <td>1</td>\n",
       "      <td>2</td>\n",
       "      <td>1</td>\n",
       "      <td>2</td>\n",
       "      <td>Sales</td>\n",
       "      <td>3</td>\n",
       "      <td>Technical Degree</td>\n",
       "      <td>4</td>\n",
       "      <td>...</td>\n",
       "      <td>1</td>\n",
       "      <td>80</td>\n",
       "      <td>0</td>\n",
       "      <td>2</td>\n",
       "      <td>3</td>\n",
       "      <td>3</td>\n",
       "      <td>2</td>\n",
       "      <td>2</td>\n",
       "      <td>2</td>\n",
       "      <td>24</td>\n",
       "    </tr>\n",
       "  </tbody>\n",
       "</table>\n",
       "<p>5 rows × 32 columns</p>\n",
       "</div>"
      ],
      "text/plain": [
       "   EmployeId  Age  Gender  MaritalStatus  Turnover  Travelling  \\\n",
       "0         63   29       1              0         0           2   \n",
       "1        723   23       1              2         0           0   \n",
       "2       1297   36       1              2         1           2   \n",
       "3         51   30       1              0         0           2   \n",
       "4       1498   29       1              2         1           2   \n",
       "\n",
       "                 Vertical  Qualifications    EducationField  \\\n",
       "0  Research & Development               1           Medical   \n",
       "1                   Sales               1     Life Sciences   \n",
       "2         Human Resources               4     Life Sciences   \n",
       "3  Research & Development               4           Medical   \n",
       "4                   Sales               3  Technical Degree   \n",
       "\n",
       "   EmployeSatisfaction  ...  RelationshipSatisfaction  Hours  \\\n",
       "0                    3  ...                         4     80   \n",
       "1                    2  ...                         4     80   \n",
       "2                    2  ...                         3     80   \n",
       "3                    3  ...                         2     80   \n",
       "4                    4  ...                         1     80   \n",
       "\n",
       "   StockOptionLevel TrainingTimesLastYear  Work&Life  YearsAtCompany  \\\n",
       "0                 1                     2          3               3   \n",
       "1                 0                     3          3               1   \n",
       "2                 0                     3          4               7   \n",
       "3                 3                     5          3              10   \n",
       "4                 0                     2          3               3   \n",
       "\n",
       "   YearsInCurrentRole  YearsSinceLastPromotion  YearsWithCurrentManager  \\\n",
       "0                   2                        2                        2   \n",
       "1                   0                        0                        0   \n",
       "2                   7                        0                        0   \n",
       "3                   6                        3                        9   \n",
       "4                   2                        2                        2   \n",
       "\n",
       "  DistanceFromHome  \n",
       "0                2  \n",
       "1                6  \n",
       "2               10  \n",
       "3               12  \n",
       "4               24  \n",
       "\n",
       "[5 rows x 32 columns]"
      ]
     },
     "execution_count": 13,
     "metadata": {},
     "output_type": "execute_result"
    }
   ],
   "source": [
    "#To check the dataset after converting to numerical features\n",
    "emp.head()"
   ]
  },
  {
   "cell_type": "code",
   "execution_count": 14,
   "id": "6dab78e5",
   "metadata": {},
   "outputs": [
    {
     "data": {
      "text/plain": [
       "count    1470.000000\n",
       "mean       37.065306\n",
       "std         9.522562\n",
       "min        18.000000\n",
       "25%        30.000000\n",
       "50%        36.000000\n",
       "75%        44.000000\n",
       "max        59.000000\n",
       "Name: Age, dtype: float64"
      ]
     },
     "execution_count": 14,
     "metadata": {},
     "output_type": "execute_result"
    }
   ],
   "source": [
    "emp['Age'].describe()"
   ]
  },
  {
   "cell_type": "code",
   "execution_count": 18,
   "id": "cd0798fa",
   "metadata": {},
   "outputs": [],
   "source": [
    "q1=30\n",
    "q3=44"
   ]
  },
  {
   "cell_type": "code",
   "execution_count": 19,
   "id": "745048cb",
   "metadata": {},
   "outputs": [
    {
     "data": {
      "text/plain": [
       "14.0"
      ]
     },
     "execution_count": 19,
     "metadata": {},
     "output_type": "execute_result"
    }
   ],
   "source": [
    "iqr=stats.iqr(emp['Age'])\n",
    "iqr"
   ]
  },
  {
   "cell_type": "code",
   "execution_count": 21,
   "id": "746675f6",
   "metadata": {},
   "outputs": [
    {
     "name": "stdout",
     "output_type": "stream",
     "text": [
      "lower_limit 9.0\n",
      "upper_limit 65.0\n"
     ]
    }
   ],
   "source": [
    "#To find the lower and upper limit values \n",
    "lower_limit=q1-1.5*iqr\n",
    "upper_limit=q3+1.5*iqr\n",
    "print('lower_limit',lower_limit)\n",
    "print('upper_limit',upper_limit)"
   ]
  },
  {
   "cell_type": "code",
   "execution_count": 22,
   "id": "14c9b295",
   "metadata": {},
   "outputs": [
    {
     "data": {
      "text/plain": [
       "count    1470.000000\n",
       "mean        6.763265\n",
       "std         5.741043\n",
       "min         0.000000\n",
       "25%         3.000000\n",
       "50%         5.000000\n",
       "75%         9.000000\n",
       "max        32.000000\n",
       "Name: YearsAtCompany, dtype: float64"
      ]
     },
     "execution_count": 22,
     "metadata": {},
     "output_type": "execute_result"
    }
   ],
   "source": [
    "emp['YearsAtCompany'].describe()"
   ]
  },
  {
   "cell_type": "code",
   "execution_count": null,
   "id": "515c401d",
   "metadata": {},
   "outputs": [],
   "source": [
    "q1=3\n",
    "q3=9"
   ]
  },
  {
   "cell_type": "code",
   "execution_count": 23,
   "id": "ee3a0f0d",
   "metadata": {},
   "outputs": [
    {
     "data": {
      "text/plain": [
       "6.0"
      ]
     },
     "execution_count": 23,
     "metadata": {},
     "output_type": "execute_result"
    }
   ],
   "source": [
    "iqr=stats.iqr(emp['YearsAtCompany'])\n",
    "iqr"
   ]
  },
  {
   "cell_type": "code",
   "execution_count": 24,
   "id": "ec5f6882",
   "metadata": {},
   "outputs": [
    {
     "name": "stdout",
     "output_type": "stream",
     "text": [
      "lower_limit 21.0\n",
      "upper_limit 53.0\n"
     ]
    }
   ],
   "source": [
    "lower_limit=q1-1.5*iqr\n",
    "upper_limit=q3+1.5*iqr\n",
    "print('lower_limit',lower_limit)\n",
    "print('upper_limit',upper_limit)"
   ]
  },
  {
   "cell_type": "code",
   "execution_count": 25,
   "id": "d40d4ac1",
   "metadata": {},
   "outputs": [
    {
     "data": {
      "text/plain": [
       "count    1470.000000\n",
       "mean        9.278231\n",
       "std         8.157120\n",
       "min         1.000000\n",
       "25%         2.000000\n",
       "50%         7.000000\n",
       "75%        15.000000\n",
       "max        29.000000\n",
       "Name: DistanceFromHome, dtype: float64"
      ]
     },
     "execution_count": 25,
     "metadata": {},
     "output_type": "execute_result"
    }
   ],
   "source": [
    "emp['DistanceFromHome'].describe()"
   ]
  },
  {
   "cell_type": "code",
   "execution_count": null,
   "id": "5d5ff887",
   "metadata": {},
   "outputs": [],
   "source": [
    "q1=2\n",
    "q3=15"
   ]
  },
  {
   "cell_type": "code",
   "execution_count": 26,
   "id": "db94ed13",
   "metadata": {},
   "outputs": [
    {
     "data": {
      "text/plain": [
       "13.0"
      ]
     },
     "execution_count": 26,
     "metadata": {},
     "output_type": "execute_result"
    }
   ],
   "source": [
    "iqr=stats.iqr(emp['DistanceFromHome'])\n",
    "iqr"
   ]
  },
  {
   "cell_type": "code",
   "execution_count": 27,
   "id": "928b04bc",
   "metadata": {},
   "outputs": [
    {
     "name": "stdout",
     "output_type": "stream",
     "text": [
      "lower_limit 10.5\n",
      "upper_limit 63.5\n"
     ]
    }
   ],
   "source": [
    "lower_limit=q1-1.5*iqr\n",
    "upper_limit=q3+1.5*iqr\n",
    "print('lower_limit',lower_limit)\n",
    "print('upper_limit',upper_limit)"
   ]
  },
  {
   "cell_type": "markdown",
   "id": "68e36b05",
   "metadata": {},
   "source": [
    "# Evaluate the target variable, find patterns and insights from data using visualizations "
   ]
  },
  {
   "cell_type": "code",
   "execution_count": 28,
   "id": "da73301e",
   "metadata": {},
   "outputs": [
    {
     "data": {
      "text/plain": [
       "<AxesSubplot:xlabel='Age', ylabel='Turnover'>"
      ]
     },
     "execution_count": 28,
     "metadata": {},
     "output_type": "execute_result"
    },
    {
     "data": {
      "image/png": "[encoded data removed]",
      "text/plain": [
       "<Figure size 432x288 with 1 Axes>"
      ]
     },
     "metadata": {
      "needs_background": "light"
     },
     "output_type": "display_data"
    }
   ],
   "source": [
    "sns.lineplot( emp['Age'], emp['Turnover'])"
   ]
  },
  {
   "cell_type": "code",
   "execution_count": 29,
   "id": "758901a4",
   "metadata": {},
   "outputs": [
    {
     "data": {
      "text/plain": [
       "<AxesSubplot:xlabel='OverTime', ylabel='Turnover'>"
      ]
     },
     "execution_count": 29,
     "metadata": {},
     "output_type": "execute_result"
    },
    {
     "data": {
      "image/png": "[encoded data removed]",
      "text/plain": [
       "<Figure size 432x288 with 1 Axes>"
      ]
     },
     "metadata": {
      "needs_background": "light"
     },
     "output_type": "display_data"
    }
   ],
   "source": [
    "sns.lineplot( emp['OverTime'], emp['Turnover'])"
   ]
  },
  {
   "cell_type": "code",
   "execution_count": 30,
   "id": "6fbe3c36",
   "metadata": {},
   "outputs": [
    {
     "data": {
      "text/plain": [
       "<AxesSubplot:xlabel='PercentSalaryHike', ylabel='Turnover'>"
      ]
     },
     "execution_count": 30,
     "metadata": {},
     "output_type": "execute_result"
    },
    {
     "data": {
      "image/png": "[encoded data removed]",
      "text/plain": [
       "<Figure size 432x288 with 1 Axes>"
      ]
     },
     "metadata": {
      "needs_background": "light"
     },
     "output_type": "display_data"
    }
   ],
   "source": [
    "sns.lineplot( emp['PercentSalaryHike'], emp['Turnover'])"
   ]
  },
  {
   "cell_type": "code",
   "execution_count": 31,
   "id": "fe4f1cda",
   "metadata": {},
   "outputs": [
    {
     "data": {
      "text/plain": [
       "<AxesSubplot:xlabel='YearsAtCompany', ylabel='Turnover'>"
      ]
     },
     "execution_count": 31,
     "metadata": {},
     "output_type": "execute_result"
    },
    {
     "data": {
      "image/png": "[encoded data removed]",
      "text/plain": [
       "<Figure size 432x288 with 1 Axes>"
      ]
     },
     "metadata": {
      "needs_background": "light"
     },
     "output_type": "display_data"
    }
   ],
   "source": [
    "sns.lineplot( emp['YearsAtCompany'], emp['Turnover'])"
   ]
  },
  {
   "cell_type": "markdown",
   "id": "4d190859",
   "metadata": {},
   "source": [
    "# Conclusion\n",
    "\n",
    "#Nature of employees who stay, nature of employees who leave.\n",
    "\n",
    "#Employees in age group of 40 and 50 are most likely to opt for a turnover.\n",
    "\n",
    "#Turnover rate increases as overtime increases.\n",
    "\n",
    "#Maximum turnover rate is seen where salary hike is from 16% to 18% and minimum turnover is seen where salary hike is at 24%.\n",
    "\n",
    "#Employees who have completed 30 to 33 years at company are most likely to opt for a turnover and those who spent 24 to 30 \n",
    " years are not likely to opt for a turnover."
   ]
  }
 ],
 "metadata": {
  "kernelspec": {
   "display_name": "Python 3 (ipykernel)",
   "language": "python",
   "name": "python3"
  },
  "language_info": {
   "codemirror_mode": {
    "name": "ipython",
    "version": 3
   },
   "file_extension": ".py",
   "mimetype": "text/x-python",
   "name": "python",
   "nbconvert_exporter": "python",
   "pygments_lexer": "ipython3",
   "version": "3.9.7"
  }
 },
 "nbformat": 4,
 "nbformat_minor": 5
}
