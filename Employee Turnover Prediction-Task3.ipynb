{
 "cells": [
  {
   "cell_type": "markdown",
   "id": "bc69bc28",
   "metadata": {},
   "source": [
    "# Employee Turnover Prediction\n",
    "\n",
    "Problem statement: \n",
    "\n",
    "The goal is to find out the employees who stay and leave the company in the upcoming year.Based on the given features,we performed Exploratory Data Analysis, Descriptive Statistical Analysis, Outlier analysis, Feature Engineering, and Feature Selection and made the change as per requirements.Created Data visualizations using Seaborn and Matplotlib libraries to find the insight patterns.Used Machine Learning algorithms to build predictive models to find the best accuracy."
   ]
  },
  {
   "cell_type": "markdown",
   "id": "d5ca8da0",
   "metadata": {},
   "source": [
    "# Project Task 3: Feature Selection\n",
    "\n",
    "Task Explanation :\n",
    "\n",
    "● Perform feature selection on numerical and categorical features separately.\n",
    "\n",
    "● Removing features with zero variance, make use of visualization.\n",
    "\n",
    "● Apply feature discretisation of continuous numerical. Use appropriate methods from\n",
    "  sklearn feature selection library.\n",
    "\n",
    "● Convert character features to numeric."
   ]
  },
  {
   "cell_type": "markdown",
   "id": "54feda0e",
   "metadata": {},
   "source": [
    "# Importing Libraries"
   ]
  },
  {
   "cell_type": "code",
   "execution_count": 2,
   "id": "87885c4e",
   "metadata": {},
   "outputs": [],
   "source": [
    "#for Manipulations\n",
    "import pandas as pd\n",
    "import numpy as np\n",
    "\n",
    "#for Data visualizations\n",
    "import matplotlib.pyplot as plt\n",
    "%matplotlib inline\n",
    "import seaborn as sns\n",
    "\n",
    "#for Scientific computations\n",
    "from scipy import stats\n",
    "from sklearn.preprocessing import LabelEncoder\n",
    "\n",
    "#To Ignore warnings\n",
    "import warnings\n",
    "warnings.filterwarnings(\"ignore\")"
   ]
  },
  {
   "cell_type": "markdown",
   "id": "c2e12028",
   "metadata": {},
   "source": [
    "# Reading the Dataset"
   ]
  },
  {
   "cell_type": "code",
   "execution_count": 3,
   "id": "bf907bdb",
   "metadata": {},
   "outputs": [],
   "source": [
    "import os\n",
    "emp = pd.read_csv('employee.csv')"
   ]
  },
  {
   "cell_type": "code",
   "execution_count": 4,
   "id": "e1a50a63",
   "metadata": {},
   "outputs": [
    {
     "data": {
      "text/html": [
       "<div>\n",
       "<style scoped>\n",
       "    .dataframe tbody tr th:only-of-type {\n",
       "        vertical-align: middle;\n",
       "    }\n",
       "\n",
       "    .dataframe tbody tr th {\n",
       "        vertical-align: top;\n",
       "    }\n",
       "\n",
       "    .dataframe thead th {\n",
       "        text-align: right;\n",
       "    }\n",
       "</style>\n",
       "<table border=\"1\" class=\"dataframe\">\n",
       "  <thead>\n",
       "    <tr style=\"text-align: right;\">\n",
       "      <th></th>\n",
       "      <th>EmployeId</th>\n",
       "      <th>Age</th>\n",
       "      <th>Gender</th>\n",
       "      <th>MaritalStatus</th>\n",
       "      <th>Turnover</th>\n",
       "      <th>Travelling</th>\n",
       "      <th>Vertical</th>\n",
       "      <th>Qualifications</th>\n",
       "      <th>EducationField</th>\n",
       "      <th>EmployeSatisfaction</th>\n",
       "      <th>...</th>\n",
       "      <th>RelationshipSatisfaction</th>\n",
       "      <th>Hours</th>\n",
       "      <th>StockOptionLevel</th>\n",
       "      <th>TrainingTimesLastYear</th>\n",
       "      <th>Work&amp;Life</th>\n",
       "      <th>YearsAtCompany</th>\n",
       "      <th>YearsInCurrentRole</th>\n",
       "      <th>YearsSinceLastPromotion</th>\n",
       "      <th>YearsWithCurrentManager</th>\n",
       "      <th>DistanceFromHome</th>\n",
       "    </tr>\n",
       "  </thead>\n",
       "  <tbody>\n",
       "    <tr>\n",
       "      <th>0</th>\n",
       "      <td>63</td>\n",
       "      <td>29</td>\n",
       "      <td>M</td>\n",
       "      <td>Divorced</td>\n",
       "      <td>No</td>\n",
       "      <td>Sometimes</td>\n",
       "      <td>Research &amp; Development</td>\n",
       "      <td>1</td>\n",
       "      <td>Medical</td>\n",
       "      <td>3</td>\n",
       "      <td>...</td>\n",
       "      <td>4</td>\n",
       "      <td>80</td>\n",
       "      <td>1</td>\n",
       "      <td>2</td>\n",
       "      <td>3</td>\n",
       "      <td>3</td>\n",
       "      <td>2</td>\n",
       "      <td>2</td>\n",
       "      <td>2</td>\n",
       "      <td>2</td>\n",
       "    </tr>\n",
       "    <tr>\n",
       "      <th>1</th>\n",
       "      <td>723</td>\n",
       "      <td>23</td>\n",
       "      <td>M</td>\n",
       "      <td>Single</td>\n",
       "      <td>No</td>\n",
       "      <td>Mostly</td>\n",
       "      <td>Sales</td>\n",
       "      <td>1</td>\n",
       "      <td>Life Sciences</td>\n",
       "      <td>2</td>\n",
       "      <td>...</td>\n",
       "      <td>4</td>\n",
       "      <td>80</td>\n",
       "      <td>0</td>\n",
       "      <td>3</td>\n",
       "      <td>3</td>\n",
       "      <td>1</td>\n",
       "      <td>0</td>\n",
       "      <td>0</td>\n",
       "      <td>0</td>\n",
       "      <td>6</td>\n",
       "    </tr>\n",
       "    <tr>\n",
       "      <th>2</th>\n",
       "      <td>1297</td>\n",
       "      <td>36</td>\n",
       "      <td>M</td>\n",
       "      <td>Single</td>\n",
       "      <td>Yes</td>\n",
       "      <td>Sometimes</td>\n",
       "      <td>Human Resources</td>\n",
       "      <td>4</td>\n",
       "      <td>Life Sciences</td>\n",
       "      <td>2</td>\n",
       "      <td>...</td>\n",
       "      <td>3</td>\n",
       "      <td>80</td>\n",
       "      <td>0</td>\n",
       "      <td>3</td>\n",
       "      <td>4</td>\n",
       "      <td>7</td>\n",
       "      <td>7</td>\n",
       "      <td>0</td>\n",
       "      <td>0</td>\n",
       "      <td>10</td>\n",
       "    </tr>\n",
       "    <tr>\n",
       "      <th>3</th>\n",
       "      <td>51</td>\n",
       "      <td>30</td>\n",
       "      <td>M</td>\n",
       "      <td>Divorced</td>\n",
       "      <td>No</td>\n",
       "      <td>Sometimes</td>\n",
       "      <td>Research &amp; Development</td>\n",
       "      <td>4</td>\n",
       "      <td>Medical</td>\n",
       "      <td>3</td>\n",
       "      <td>...</td>\n",
       "      <td>2</td>\n",
       "      <td>80</td>\n",
       "      <td>3</td>\n",
       "      <td>5</td>\n",
       "      <td>3</td>\n",
       "      <td>10</td>\n",
       "      <td>6</td>\n",
       "      <td>3</td>\n",
       "      <td>9</td>\n",
       "      <td>12</td>\n",
       "    </tr>\n",
       "    <tr>\n",
       "      <th>4</th>\n",
       "      <td>1498</td>\n",
       "      <td>29</td>\n",
       "      <td>M</td>\n",
       "      <td>Single</td>\n",
       "      <td>Yes</td>\n",
       "      <td>Sometimes</td>\n",
       "      <td>Sales</td>\n",
       "      <td>3</td>\n",
       "      <td>Technical Degree</td>\n",
       "      <td>4</td>\n",
       "      <td>...</td>\n",
       "      <td>1</td>\n",
       "      <td>80</td>\n",
       "      <td>0</td>\n",
       "      <td>2</td>\n",
       "      <td>3</td>\n",
       "      <td>3</td>\n",
       "      <td>2</td>\n",
       "      <td>2</td>\n",
       "      <td>2</td>\n",
       "      <td>24</td>\n",
       "    </tr>\n",
       "  </tbody>\n",
       "</table>\n",
       "<p>5 rows × 32 columns</p>\n",
       "</div>"
      ],
      "text/plain": [
       "   EmployeId  Age Gender MaritalStatus Turnover Travelling  \\\n",
       "0         63   29      M      Divorced       No  Sometimes   \n",
       "1        723   23      M        Single       No     Mostly   \n",
       "2       1297   36      M        Single      Yes  Sometimes   \n",
       "3         51   30      M      Divorced       No  Sometimes   \n",
       "4       1498   29      M        Single      Yes  Sometimes   \n",
       "\n",
       "                 Vertical  Qualifications    EducationField  \\\n",
       "0  Research & Development               1           Medical   \n",
       "1                   Sales               1     Life Sciences   \n",
       "2         Human Resources               4     Life Sciences   \n",
       "3  Research & Development               4           Medical   \n",
       "4                   Sales               3  Technical Degree   \n",
       "\n",
       "   EmployeSatisfaction  ...  RelationshipSatisfaction  Hours  \\\n",
       "0                    3  ...                         4     80   \n",
       "1                    2  ...                         4     80   \n",
       "2                    2  ...                         3     80   \n",
       "3                    3  ...                         2     80   \n",
       "4                    4  ...                         1     80   \n",
       "\n",
       "   StockOptionLevel TrainingTimesLastYear  Work&Life  YearsAtCompany  \\\n",
       "0                 1                     2          3               3   \n",
       "1                 0                     3          3               1   \n",
       "2                 0                     3          4               7   \n",
       "3                 3                     5          3              10   \n",
       "4                 0                     2          3               3   \n",
       "\n",
       "   YearsInCurrentRole  YearsSinceLastPromotion  YearsWithCurrentManager  \\\n",
       "0                   2                        2                        2   \n",
       "1                   0                        0                        0   \n",
       "2                   7                        0                        0   \n",
       "3                   6                        3                        9   \n",
       "4                   2                        2                        2   \n",
       "\n",
       "  DistanceFromHome  \n",
       "0                2  \n",
       "1                6  \n",
       "2               10  \n",
       "3               12  \n",
       "4               24  \n",
       "\n",
       "[5 rows x 32 columns]"
      ]
     },
     "execution_count": 4,
     "metadata": {},
     "output_type": "execute_result"
    }
   ],
   "source": [
    "emp.head()"
   ]
  },
  {
   "cell_type": "code",
   "execution_count": 5,
   "id": "d47aa431",
   "metadata": {},
   "outputs": [
    {
     "data": {
      "text/plain": [
       "Index(['EmployeId', 'Age', 'Gender', 'MaritalStatus', 'Turnover', 'Travelling',\n",
       "       'Vertical', 'Qualifications', 'EducationField', 'EmployeSatisfaction',\n",
       "       'JobEngagement', 'JobLevel', 'JobSatisfaction', 'Role', 'DailyBilling',\n",
       "       'HourBilling', 'MonthlyBilling', 'MonthlyRate', 'Work Experience',\n",
       "       'OverTime', 'PercentSalaryHike', 'Last Rating',\n",
       "       'RelationshipSatisfaction', 'Hours', 'StockOptionLevel',\n",
       "       'TrainingTimesLastYear', 'Work&Life', 'YearsAtCompany',\n",
       "       'YearsInCurrentRole', 'YearsSinceLastPromotion',\n",
       "       'YearsWithCurrentManager', 'DistanceFromHome'],\n",
       "      dtype='object')"
      ]
     },
     "execution_count": 5,
     "metadata": {},
     "output_type": "execute_result"
    }
   ],
   "source": [
    "#Checking the columns\n",
    "emp.columns"
   ]
  },
  {
   "cell_type": "code",
   "execution_count": 6,
   "id": "61732342",
   "metadata": {},
   "outputs": [
    {
     "data": {
      "text/plain": [
       "(1470, 32)"
      ]
     },
     "execution_count": 6,
     "metadata": {},
     "output_type": "execute_result"
    }
   ],
   "source": [
    "#Checking the shape of the dataset\n",
    "emp.shape"
   ]
  },
  {
   "cell_type": "code",
   "execution_count": 7,
   "id": "37ba21f9",
   "metadata": {},
   "outputs": [
    {
     "name": "stdout",
     "output_type": "stream",
     "text": [
      "<class 'pandas.core.frame.DataFrame'>\n",
      "RangeIndex: 1470 entries, 0 to 1469\n",
      "Data columns (total 32 columns):\n",
      " #   Column                    Non-Null Count  Dtype \n",
      "---  ------                    --------------  ----- \n",
      " 0   EmployeId                 1470 non-null   int64 \n",
      " 1   Age                       1470 non-null   int64 \n",
      " 2   Gender                    1470 non-null   object\n",
      " 3   MaritalStatus             1470 non-null   object\n",
      " 4   Turnover                  1470 non-null   object\n",
      " 5   Travelling                1470 non-null   object\n",
      " 6   Vertical                  1470 non-null   object\n",
      " 7   Qualifications            1470 non-null   int64 \n",
      " 8   EducationField            1470 non-null   object\n",
      " 9   EmployeSatisfaction       1470 non-null   int64 \n",
      " 10  JobEngagement             1470 non-null   int64 \n",
      " 11  JobLevel                  1470 non-null   int64 \n",
      " 12  JobSatisfaction           1470 non-null   int64 \n",
      " 13  Role                      1470 non-null   object\n",
      " 14  DailyBilling              1470 non-null   int64 \n",
      " 15  HourBilling               1470 non-null   int64 \n",
      " 16  MonthlyBilling            1470 non-null   int64 \n",
      " 17  MonthlyRate               1470 non-null   int64 \n",
      " 18  Work Experience           1470 non-null   int64 \n",
      " 19  OverTime                  1470 non-null   object\n",
      " 20  PercentSalaryHike         1470 non-null   int64 \n",
      " 21  Last Rating               1470 non-null   int64 \n",
      " 22  RelationshipSatisfaction  1470 non-null   int64 \n",
      " 23  Hours                     1470 non-null   int64 \n",
      " 24  StockOptionLevel          1470 non-null   int64 \n",
      " 25  TrainingTimesLastYear     1470 non-null   int64 \n",
      " 26  Work&Life                 1470 non-null   int64 \n",
      " 27  YearsAtCompany            1470 non-null   int64 \n",
      " 28  YearsInCurrentRole        1470 non-null   int64 \n",
      " 29  YearsSinceLastPromotion   1470 non-null   int64 \n",
      " 30  YearsWithCurrentManager   1470 non-null   int64 \n",
      " 31  DistanceFromHome          1470 non-null   int64 \n",
      "dtypes: int64(24), object(8)\n",
      "memory usage: 367.6+ KB\n"
     ]
    }
   ],
   "source": [
    "emp.info()"
   ]
  },
  {
   "cell_type": "code",
   "execution_count": 8,
   "id": "bd416cf9",
   "metadata": {},
   "outputs": [
    {
     "data": {
      "text/plain": [
       "0"
      ]
     },
     "execution_count": 8,
     "metadata": {},
     "output_type": "execute_result"
    }
   ],
   "source": [
    "#To find sum of all missing values in the whole dataframe\n",
    "emp.isnull().sum().sum()"
   ]
  },
  {
   "cell_type": "code",
   "execution_count": 9,
   "id": "c8920786",
   "metadata": {},
   "outputs": [
    {
     "data": {
      "text/plain": [
       "0"
      ]
     },
     "execution_count": 9,
     "metadata": {},
     "output_type": "execute_result"
    }
   ],
   "source": [
    "#Checking duplicate values\n",
    "emp.duplicated().sum()"
   ]
  },
  {
   "cell_type": "markdown",
   "id": "cc09f71a",
   "metadata": {},
   "source": [
    "# Perform feature selection on numerical and categorical features separately."
   ]
  },
  {
   "cell_type": "code",
   "execution_count": 11,
   "id": "d389d45d",
   "metadata": {},
   "outputs": [],
   "source": [
    "#Split the numerical features from the dataset\n",
    "numeric = emp.select_dtypes(\"number\")"
   ]
  },
  {
   "cell_type": "code",
   "execution_count": 12,
   "id": "706fe1cf",
   "metadata": {},
   "outputs": [
    {
     "data": {
      "text/html": [
       "<div>\n",
       "<style scoped>\n",
       "    .dataframe tbody tr th:only-of-type {\n",
       "        vertical-align: middle;\n",
       "    }\n",
       "\n",
       "    .dataframe tbody tr th {\n",
       "        vertical-align: top;\n",
       "    }\n",
       "\n",
       "    .dataframe thead th {\n",
       "        text-align: right;\n",
       "    }\n",
       "</style>\n",
       "<table border=\"1\" class=\"dataframe\">\n",
       "  <thead>\n",
       "    <tr style=\"text-align: right;\">\n",
       "      <th></th>\n",
       "      <th>EmployeId</th>\n",
       "      <th>Age</th>\n",
       "      <th>Qualifications</th>\n",
       "      <th>EmployeSatisfaction</th>\n",
       "      <th>JobEngagement</th>\n",
       "      <th>JobLevel</th>\n",
       "      <th>JobSatisfaction</th>\n",
       "      <th>DailyBilling</th>\n",
       "      <th>HourBilling</th>\n",
       "      <th>MonthlyBilling</th>\n",
       "      <th>...</th>\n",
       "      <th>RelationshipSatisfaction</th>\n",
       "      <th>Hours</th>\n",
       "      <th>StockOptionLevel</th>\n",
       "      <th>TrainingTimesLastYear</th>\n",
       "      <th>Work&amp;Life</th>\n",
       "      <th>YearsAtCompany</th>\n",
       "      <th>YearsInCurrentRole</th>\n",
       "      <th>YearsSinceLastPromotion</th>\n",
       "      <th>YearsWithCurrentManager</th>\n",
       "      <th>DistanceFromHome</th>\n",
       "    </tr>\n",
       "  </thead>\n",
       "  <tbody>\n",
       "    <tr>\n",
       "      <th>0</th>\n",
       "      <td>63</td>\n",
       "      <td>29</td>\n",
       "      <td>1</td>\n",
       "      <td>3</td>\n",
       "      <td>3</td>\n",
       "      <td>1</td>\n",
       "      <td>1</td>\n",
       "      <td>368</td>\n",
       "      <td>37</td>\n",
       "      <td>7062</td>\n",
       "      <td>...</td>\n",
       "      <td>4</td>\n",
       "      <td>80</td>\n",
       "      <td>1</td>\n",
       "      <td>2</td>\n",
       "      <td>3</td>\n",
       "      <td>3</td>\n",
       "      <td>2</td>\n",
       "      <td>2</td>\n",
       "      <td>2</td>\n",
       "      <td>2</td>\n",
       "    </tr>\n",
       "    <tr>\n",
       "      <th>1</th>\n",
       "      <td>723</td>\n",
       "      <td>23</td>\n",
       "      <td>1</td>\n",
       "      <td>2</td>\n",
       "      <td>3</td>\n",
       "      <td>1</td>\n",
       "      <td>3</td>\n",
       "      <td>599</td>\n",
       "      <td>97</td>\n",
       "      <td>2036</td>\n",
       "      <td>...</td>\n",
       "      <td>4</td>\n",
       "      <td>80</td>\n",
       "      <td>0</td>\n",
       "      <td>3</td>\n",
       "      <td>3</td>\n",
       "      <td>1</td>\n",
       "      <td>0</td>\n",
       "      <td>0</td>\n",
       "      <td>0</td>\n",
       "      <td>6</td>\n",
       "    </tr>\n",
       "    <tr>\n",
       "      <th>2</th>\n",
       "      <td>1297</td>\n",
       "      <td>36</td>\n",
       "      <td>4</td>\n",
       "      <td>2</td>\n",
       "      <td>3</td>\n",
       "      <td>2</td>\n",
       "      <td>4</td>\n",
       "      <td>833</td>\n",
       "      <td>34</td>\n",
       "      <td>6052</td>\n",
       "      <td>...</td>\n",
       "      <td>3</td>\n",
       "      <td>80</td>\n",
       "      <td>0</td>\n",
       "      <td>3</td>\n",
       "      <td>4</td>\n",
       "      <td>7</td>\n",
       "      <td>7</td>\n",
       "      <td>0</td>\n",
       "      <td>0</td>\n",
       "      <td>10</td>\n",
       "    </tr>\n",
       "    <tr>\n",
       "      <th>3</th>\n",
       "      <td>51</td>\n",
       "      <td>30</td>\n",
       "      <td>4</td>\n",
       "      <td>3</td>\n",
       "      <td>3</td>\n",
       "      <td>3</td>\n",
       "      <td>3</td>\n",
       "      <td>291</td>\n",
       "      <td>66</td>\n",
       "      <td>10047</td>\n",
       "      <td>...</td>\n",
       "      <td>2</td>\n",
       "      <td>80</td>\n",
       "      <td>3</td>\n",
       "      <td>5</td>\n",
       "      <td>3</td>\n",
       "      <td>10</td>\n",
       "      <td>6</td>\n",
       "      <td>3</td>\n",
       "      <td>9</td>\n",
       "      <td>12</td>\n",
       "    </tr>\n",
       "    <tr>\n",
       "      <th>4</th>\n",
       "      <td>1498</td>\n",
       "      <td>29</td>\n",
       "      <td>3</td>\n",
       "      <td>4</td>\n",
       "      <td>3</td>\n",
       "      <td>1</td>\n",
       "      <td>4</td>\n",
       "      <td>143</td>\n",
       "      <td>61</td>\n",
       "      <td>1398</td>\n",
       "      <td>...</td>\n",
       "      <td>1</td>\n",
       "      <td>80</td>\n",
       "      <td>0</td>\n",
       "      <td>2</td>\n",
       "      <td>3</td>\n",
       "      <td>3</td>\n",
       "      <td>2</td>\n",
       "      <td>2</td>\n",
       "      <td>2</td>\n",
       "      <td>24</td>\n",
       "    </tr>\n",
       "  </tbody>\n",
       "</table>\n",
       "<p>5 rows × 24 columns</p>\n",
       "</div>"
      ],
      "text/plain": [
       "   EmployeId  Age  Qualifications  EmployeSatisfaction  JobEngagement  \\\n",
       "0         63   29               1                    3              3   \n",
       "1        723   23               1                    2              3   \n",
       "2       1297   36               4                    2              3   \n",
       "3         51   30               4                    3              3   \n",
       "4       1498   29               3                    4              3   \n",
       "\n",
       "   JobLevel  JobSatisfaction  DailyBilling  HourBilling  MonthlyBilling  ...  \\\n",
       "0         1                1           368           37            7062  ...   \n",
       "1         1                3           599           97            2036  ...   \n",
       "2         2                4           833           34            6052  ...   \n",
       "3         3                3           291           66           10047  ...   \n",
       "4         1                4           143           61            1398  ...   \n",
       "\n",
       "   RelationshipSatisfaction  Hours  StockOptionLevel  TrainingTimesLastYear  \\\n",
       "0                         4     80                 1                      2   \n",
       "1                         4     80                 0                      3   \n",
       "2                         3     80                 0                      3   \n",
       "3                         2     80                 3                      5   \n",
       "4                         1     80                 0                      2   \n",
       "\n",
       "   Work&Life  YearsAtCompany  YearsInCurrentRole  YearsSinceLastPromotion  \\\n",
       "0          3               3                   2                        2   \n",
       "1          3               1                   0                        0   \n",
       "2          4               7                   7                        0   \n",
       "3          3              10                   6                        3   \n",
       "4          3               3                   2                        2   \n",
       "\n",
       "   YearsWithCurrentManager  DistanceFromHome  \n",
       "0                        2                 2  \n",
       "1                        0                 6  \n",
       "2                        0                10  \n",
       "3                        9                12  \n",
       "4                        2                24  \n",
       "\n",
       "[5 rows x 24 columns]"
      ]
     },
     "execution_count": 12,
     "metadata": {},
     "output_type": "execute_result"
    }
   ],
   "source": [
    "numeric.head()"
   ]
  },
  {
   "cell_type": "code",
   "execution_count": 17,
   "id": "a3ac2704",
   "metadata": {},
   "outputs": [
    {
     "data": {
      "text/plain": [
       "(1470, 24)"
      ]
     },
     "execution_count": 17,
     "metadata": {},
     "output_type": "execute_result"
    }
   ],
   "source": [
    "numeric.shape"
   ]
  },
  {
   "cell_type": "code",
   "execution_count": 14,
   "id": "6add0727",
   "metadata": {},
   "outputs": [],
   "source": [
    "#Split the categorical features from the dataset \n",
    "category = emp.select_dtypes(\"object\")"
   ]
  },
  {
   "cell_type": "code",
   "execution_count": 15,
   "id": "a3ec226e",
   "metadata": {},
   "outputs": [
    {
     "data": {
      "text/html": [
       "<div>\n",
       "<style scoped>\n",
       "    .dataframe tbody tr th:only-of-type {\n",
       "        vertical-align: middle;\n",
       "    }\n",
       "\n",
       "    .dataframe tbody tr th {\n",
       "        vertical-align: top;\n",
       "    }\n",
       "\n",
       "    .dataframe thead th {\n",
       "        text-align: right;\n",
       "    }\n",
       "</style>\n",
       "<table border=\"1\" class=\"dataframe\">\n",
       "  <thead>\n",
       "    <tr style=\"text-align: right;\">\n",
       "      <th></th>\n",
       "      <th>Gender</th>\n",
       "      <th>MaritalStatus</th>\n",
       "      <th>Turnover</th>\n",
       "      <th>Travelling</th>\n",
       "      <th>Vertical</th>\n",
       "      <th>EducationField</th>\n",
       "      <th>Role</th>\n",
       "      <th>OverTime</th>\n",
       "    </tr>\n",
       "  </thead>\n",
       "  <tbody>\n",
       "    <tr>\n",
       "      <th>0</th>\n",
       "      <td>M</td>\n",
       "      <td>Divorced</td>\n",
       "      <td>No</td>\n",
       "      <td>Sometimes</td>\n",
       "      <td>Research &amp; Development</td>\n",
       "      <td>Medical</td>\n",
       "      <td>Laboratory Technician</td>\n",
       "      <td>No</td>\n",
       "    </tr>\n",
       "    <tr>\n",
       "      <th>1</th>\n",
       "      <td>M</td>\n",
       "      <td>Single</td>\n",
       "      <td>No</td>\n",
       "      <td>Mostly</td>\n",
       "      <td>Sales</td>\n",
       "      <td>Life Sciences</td>\n",
       "      <td>Sales Representative</td>\n",
       "      <td>No</td>\n",
       "    </tr>\n",
       "    <tr>\n",
       "      <th>2</th>\n",
       "      <td>M</td>\n",
       "      <td>Single</td>\n",
       "      <td>Yes</td>\n",
       "      <td>Sometimes</td>\n",
       "      <td>Human Resources</td>\n",
       "      <td>Life Sciences</td>\n",
       "      <td>Manager</td>\n",
       "      <td>No</td>\n",
       "    </tr>\n",
       "    <tr>\n",
       "      <th>3</th>\n",
       "      <td>M</td>\n",
       "      <td>Divorced</td>\n",
       "      <td>No</td>\n",
       "      <td>Sometimes</td>\n",
       "      <td>Research &amp; Development</td>\n",
       "      <td>Medical</td>\n",
       "      <td>Manufacturing Director</td>\n",
       "      <td>No</td>\n",
       "    </tr>\n",
       "    <tr>\n",
       "      <th>4</th>\n",
       "      <td>M</td>\n",
       "      <td>Single</td>\n",
       "      <td>Yes</td>\n",
       "      <td>Sometimes</td>\n",
       "      <td>Sales</td>\n",
       "      <td>Technical Degree</td>\n",
       "      <td>Sales Representative</td>\n",
       "      <td>No</td>\n",
       "    </tr>\n",
       "  </tbody>\n",
       "</table>\n",
       "</div>"
      ],
      "text/plain": [
       "  Gender MaritalStatus Turnover Travelling                Vertical  \\\n",
       "0      M      Divorced       No  Sometimes  Research & Development   \n",
       "1      M        Single       No     Mostly                   Sales   \n",
       "2      M        Single      Yes  Sometimes         Human Resources   \n",
       "3      M      Divorced       No  Sometimes  Research & Development   \n",
       "4      M        Single      Yes  Sometimes                   Sales   \n",
       "\n",
       "     EducationField                    Role OverTime  \n",
       "0           Medical   Laboratory Technician       No  \n",
       "1     Life Sciences    Sales Representative       No  \n",
       "2     Life Sciences                 Manager       No  \n",
       "3           Medical  Manufacturing Director       No  \n",
       "4  Technical Degree    Sales Representative       No  "
      ]
     },
     "execution_count": 15,
     "metadata": {},
     "output_type": "execute_result"
    }
   ],
   "source": [
    "category.head()"
   ]
  },
  {
   "cell_type": "code",
   "execution_count": 18,
   "id": "ab861dd4",
   "metadata": {},
   "outputs": [
    {
     "data": {
      "text/plain": [
       "(1470, 8)"
      ]
     },
     "execution_count": 18,
     "metadata": {},
     "output_type": "execute_result"
    }
   ],
   "source": [
    "category.shape"
   ]
  },
  {
   "cell_type": "code",
   "execution_count": 19,
   "id": "a86e2435",
   "metadata": {},
   "outputs": [
    {
     "data": {
      "text/plain": [
       "LabelEncoder()"
      ]
     },
     "execution_count": 19,
     "metadata": {},
     "output_type": "execute_result"
    }
   ],
   "source": [
    "#Converting some category features to numeric features\n",
    "le=LabelEncoder()\n",
    "le"
   ]
  },
  {
   "cell_type": "code",
   "execution_count": 20,
   "id": "9cf826cd",
   "metadata": {},
   "outputs": [],
   "source": [
    "category['Gender'] = le.fit_transform(category['Gender'])\n",
    "category['MaritalStatus'] = le.fit_transform(category['MaritalStatus'])\n",
    "category['Turnover'] = le.fit_transform(category['Turnover'])\n",
    "category['Travelling'] = le.fit_transform(category['Travelling'])\n",
    "category['OverTime'] = le.fit_transform(category['OverTime'])"
   ]
  },
  {
   "cell_type": "code",
   "execution_count": 21,
   "id": "f17c2fab",
   "metadata": {},
   "outputs": [
    {
     "data": {
      "text/html": [
       "<div>\n",
       "<style scoped>\n",
       "    .dataframe tbody tr th:only-of-type {\n",
       "        vertical-align: middle;\n",
       "    }\n",
       "\n",
       "    .dataframe tbody tr th {\n",
       "        vertical-align: top;\n",
       "    }\n",
       "\n",
       "    .dataframe thead th {\n",
       "        text-align: right;\n",
       "    }\n",
       "</style>\n",
       "<table border=\"1\" class=\"dataframe\">\n",
       "  <thead>\n",
       "    <tr style=\"text-align: right;\">\n",
       "      <th></th>\n",
       "      <th>Gender</th>\n",
       "      <th>MaritalStatus</th>\n",
       "      <th>Turnover</th>\n",
       "      <th>Travelling</th>\n",
       "      <th>Vertical</th>\n",
       "      <th>EducationField</th>\n",
       "      <th>Role</th>\n",
       "      <th>OverTime</th>\n",
       "    </tr>\n",
       "  </thead>\n",
       "  <tbody>\n",
       "    <tr>\n",
       "      <th>0</th>\n",
       "      <td>1</td>\n",
       "      <td>0</td>\n",
       "      <td>0</td>\n",
       "      <td>2</td>\n",
       "      <td>Research &amp; Development</td>\n",
       "      <td>Medical</td>\n",
       "      <td>Laboratory Technician</td>\n",
       "      <td>0</td>\n",
       "    </tr>\n",
       "    <tr>\n",
       "      <th>1</th>\n",
       "      <td>1</td>\n",
       "      <td>2</td>\n",
       "      <td>0</td>\n",
       "      <td>0</td>\n",
       "      <td>Sales</td>\n",
       "      <td>Life Sciences</td>\n",
       "      <td>Sales Representative</td>\n",
       "      <td>0</td>\n",
       "    </tr>\n",
       "    <tr>\n",
       "      <th>2</th>\n",
       "      <td>1</td>\n",
       "      <td>2</td>\n",
       "      <td>1</td>\n",
       "      <td>2</td>\n",
       "      <td>Human Resources</td>\n",
       "      <td>Life Sciences</td>\n",
       "      <td>Manager</td>\n",
       "      <td>0</td>\n",
       "    </tr>\n",
       "    <tr>\n",
       "      <th>3</th>\n",
       "      <td>1</td>\n",
       "      <td>0</td>\n",
       "      <td>0</td>\n",
       "      <td>2</td>\n",
       "      <td>Research &amp; Development</td>\n",
       "      <td>Medical</td>\n",
       "      <td>Manufacturing Director</td>\n",
       "      <td>0</td>\n",
       "    </tr>\n",
       "    <tr>\n",
       "      <th>4</th>\n",
       "      <td>1</td>\n",
       "      <td>2</td>\n",
       "      <td>1</td>\n",
       "      <td>2</td>\n",
       "      <td>Sales</td>\n",
       "      <td>Technical Degree</td>\n",
       "      <td>Sales Representative</td>\n",
       "      <td>0</td>\n",
       "    </tr>\n",
       "  </tbody>\n",
       "</table>\n",
       "</div>"
      ],
      "text/plain": [
       "   Gender  MaritalStatus  Turnover  Travelling                Vertical  \\\n",
       "0       1              0         0           2  Research & Development   \n",
       "1       1              2         0           0                   Sales   \n",
       "2       1              2         1           2         Human Resources   \n",
       "3       1              0         0           2  Research & Development   \n",
       "4       1              2         1           2                   Sales   \n",
       "\n",
       "     EducationField                    Role  OverTime  \n",
       "0           Medical   Laboratory Technician         0  \n",
       "1     Life Sciences    Sales Representative         0  \n",
       "2     Life Sciences                 Manager         0  \n",
       "3           Medical  Manufacturing Director         0  \n",
       "4  Technical Degree    Sales Representative         0  "
      ]
     },
     "execution_count": 21,
     "metadata": {},
     "output_type": "execute_result"
    }
   ],
   "source": [
    "category.head()"
   ]
  },
  {
   "cell_type": "code",
   "execution_count": 22,
   "id": "9d8f277a",
   "metadata": {},
   "outputs": [
    {
     "data": {
      "text/html": [
       "<div>\n",
       "<style scoped>\n",
       "    .dataframe tbody tr th:only-of-type {\n",
       "        vertical-align: middle;\n",
       "    }\n",
       "\n",
       "    .dataframe tbody tr th {\n",
       "        vertical-align: top;\n",
       "    }\n",
       "\n",
       "    .dataframe thead th {\n",
       "        text-align: right;\n",
       "    }\n",
       "</style>\n",
       "<table border=\"1\" class=\"dataframe\">\n",
       "  <thead>\n",
       "    <tr style=\"text-align: right;\">\n",
       "      <th></th>\n",
       "      <th>Gender</th>\n",
       "      <th>MaritalStatus</th>\n",
       "      <th>Turnover</th>\n",
       "      <th>Travelling</th>\n",
       "      <th>Vertical</th>\n",
       "      <th>EducationField</th>\n",
       "      <th>Role</th>\n",
       "      <th>OverTime</th>\n",
       "      <th>EmployeId</th>\n",
       "      <th>Age</th>\n",
       "      <th>...</th>\n",
       "      <th>RelationshipSatisfaction</th>\n",
       "      <th>Hours</th>\n",
       "      <th>StockOptionLevel</th>\n",
       "      <th>TrainingTimesLastYear</th>\n",
       "      <th>Work&amp;Life</th>\n",
       "      <th>YearsAtCompany</th>\n",
       "      <th>YearsInCurrentRole</th>\n",
       "      <th>YearsSinceLastPromotion</th>\n",
       "      <th>YearsWithCurrentManager</th>\n",
       "      <th>DistanceFromHome</th>\n",
       "    </tr>\n",
       "  </thead>\n",
       "  <tbody>\n",
       "    <tr>\n",
       "      <th>0</th>\n",
       "      <td>1</td>\n",
       "      <td>0</td>\n",
       "      <td>0</td>\n",
       "      <td>2</td>\n",
       "      <td>Research &amp; Development</td>\n",
       "      <td>Medical</td>\n",
       "      <td>Laboratory Technician</td>\n",
       "      <td>0</td>\n",
       "      <td>63</td>\n",
       "      <td>29</td>\n",
       "      <td>...</td>\n",
       "      <td>4</td>\n",
       "      <td>80</td>\n",
       "      <td>1</td>\n",
       "      <td>2</td>\n",
       "      <td>3</td>\n",
       "      <td>3</td>\n",
       "      <td>2</td>\n",
       "      <td>2</td>\n",
       "      <td>2</td>\n",
       "      <td>2</td>\n",
       "    </tr>\n",
       "    <tr>\n",
       "      <th>1</th>\n",
       "      <td>1</td>\n",
       "      <td>2</td>\n",
       "      <td>0</td>\n",
       "      <td>0</td>\n",
       "      <td>Sales</td>\n",
       "      <td>Life Sciences</td>\n",
       "      <td>Sales Representative</td>\n",
       "      <td>0</td>\n",
       "      <td>723</td>\n",
       "      <td>23</td>\n",
       "      <td>...</td>\n",
       "      <td>4</td>\n",
       "      <td>80</td>\n",
       "      <td>0</td>\n",
       "      <td>3</td>\n",
       "      <td>3</td>\n",
       "      <td>1</td>\n",
       "      <td>0</td>\n",
       "      <td>0</td>\n",
       "      <td>0</td>\n",
       "      <td>6</td>\n",
       "    </tr>\n",
       "    <tr>\n",
       "      <th>2</th>\n",
       "      <td>1</td>\n",
       "      <td>2</td>\n",
       "      <td>1</td>\n",
       "      <td>2</td>\n",
       "      <td>Human Resources</td>\n",
       "      <td>Life Sciences</td>\n",
       "      <td>Manager</td>\n",
       "      <td>0</td>\n",
       "      <td>1297</td>\n",
       "      <td>36</td>\n",
       "      <td>...</td>\n",
       "      <td>3</td>\n",
       "      <td>80</td>\n",
       "      <td>0</td>\n",
       "      <td>3</td>\n",
       "      <td>4</td>\n",
       "      <td>7</td>\n",
       "      <td>7</td>\n",
       "      <td>0</td>\n",
       "      <td>0</td>\n",
       "      <td>10</td>\n",
       "    </tr>\n",
       "    <tr>\n",
       "      <th>3</th>\n",
       "      <td>1</td>\n",
       "      <td>0</td>\n",
       "      <td>0</td>\n",
       "      <td>2</td>\n",
       "      <td>Research &amp; Development</td>\n",
       "      <td>Medical</td>\n",
       "      <td>Manufacturing Director</td>\n",
       "      <td>0</td>\n",
       "      <td>51</td>\n",
       "      <td>30</td>\n",
       "      <td>...</td>\n",
       "      <td>2</td>\n",
       "      <td>80</td>\n",
       "      <td>3</td>\n",
       "      <td>5</td>\n",
       "      <td>3</td>\n",
       "      <td>10</td>\n",
       "      <td>6</td>\n",
       "      <td>3</td>\n",
       "      <td>9</td>\n",
       "      <td>12</td>\n",
       "    </tr>\n",
       "    <tr>\n",
       "      <th>4</th>\n",
       "      <td>1</td>\n",
       "      <td>2</td>\n",
       "      <td>1</td>\n",
       "      <td>2</td>\n",
       "      <td>Sales</td>\n",
       "      <td>Technical Degree</td>\n",
       "      <td>Sales Representative</td>\n",
       "      <td>0</td>\n",
       "      <td>1498</td>\n",
       "      <td>29</td>\n",
       "      <td>...</td>\n",
       "      <td>1</td>\n",
       "      <td>80</td>\n",
       "      <td>0</td>\n",
       "      <td>2</td>\n",
       "      <td>3</td>\n",
       "      <td>3</td>\n",
       "      <td>2</td>\n",
       "      <td>2</td>\n",
       "      <td>2</td>\n",
       "      <td>24</td>\n",
       "    </tr>\n",
       "  </tbody>\n",
       "</table>\n",
       "<p>5 rows × 32 columns</p>\n",
       "</div>"
      ],
      "text/plain": [
       "   Gender  MaritalStatus  Turnover  Travelling                Vertical  \\\n",
       "0       1              0         0           2  Research & Development   \n",
       "1       1              2         0           0                   Sales   \n",
       "2       1              2         1           2         Human Resources   \n",
       "3       1              0         0           2  Research & Development   \n",
       "4       1              2         1           2                   Sales   \n",
       "\n",
       "     EducationField                    Role  OverTime  EmployeId  Age  ...  \\\n",
       "0           Medical   Laboratory Technician         0         63   29  ...   \n",
       "1     Life Sciences    Sales Representative         0        723   23  ...   \n",
       "2     Life Sciences                 Manager         0       1297   36  ...   \n",
       "3           Medical  Manufacturing Director         0         51   30  ...   \n",
       "4  Technical Degree    Sales Representative         0       1498   29  ...   \n",
       "\n",
       "   RelationshipSatisfaction  Hours  StockOptionLevel  TrainingTimesLastYear  \\\n",
       "0                         4     80                 1                      2   \n",
       "1                         4     80                 0                      3   \n",
       "2                         3     80                 0                      3   \n",
       "3                         2     80                 3                      5   \n",
       "4                         1     80                 0                      2   \n",
       "\n",
       "   Work&Life  YearsAtCompany  YearsInCurrentRole  YearsSinceLastPromotion  \\\n",
       "0          3               3                   2                        2   \n",
       "1          3               1                   0                        0   \n",
       "2          4               7                   7                        0   \n",
       "3          3              10                   6                        3   \n",
       "4          3               3                   2                        2   \n",
       "\n",
       "   YearsWithCurrentManager  DistanceFromHome  \n",
       "0                        2                 2  \n",
       "1                        0                 6  \n",
       "2                        0                10  \n",
       "3                        9                12  \n",
       "4                        2                24  \n",
       "\n",
       "[5 rows x 32 columns]"
      ]
     },
     "execution_count": 22,
     "metadata": {},
     "output_type": "execute_result"
    }
   ],
   "source": [
    "emp=pd.concat([category,numeric], axis=1)\n",
    "emp.head()"
   ]
  },
  {
   "cell_type": "markdown",
   "id": "607442a7",
   "metadata": {},
   "source": [
    "# Removing features with zero variance, make use of visualization."
   ]
  },
  {
   "cell_type": "code",
   "execution_count": 23,
   "id": "543f7019",
   "metadata": {},
   "outputs": [
    {
     "data": {
      "text/plain": [
       "<AxesSubplot:xlabel='Hours', ylabel='Turnover'>"
      ]
     },
     "execution_count": 23,
     "metadata": {},
     "output_type": "execute_result"
    },
    {
     "data": {
      "image/png": "[encoded data removed]",
      "text/plain": [
       "<Figure size 432x288 with 1 Axes>"
      ]
     },
     "metadata": {
      "needs_background": "light"
     },
     "output_type": "display_data"
    }
   ],
   "source": [
    "#Dropping column having zero variance in numerical features\n",
    "sns.lineplot( emp['Hours'], emp['Turnover'])\n",
    "\n",
    "#We can see that HOURS is having ZERO VARIANCE, so we can remove this feature."
   ]
  },
  {
   "cell_type": "code",
   "execution_count": 24,
   "id": "66110576",
   "metadata": {},
   "outputs": [],
   "source": [
    "emp.drop('Hours',axis=1, inplace=True)"
   ]
  },
  {
   "cell_type": "code",
   "execution_count": 26,
   "id": "fa72d286",
   "metadata": {},
   "outputs": [
    {
     "data": {
      "text/plain": [
       "Index(['Gender', 'MaritalStatus', 'Turnover', 'Travelling', 'Vertical',\n",
       "       'EducationField', 'Role', 'OverTime', 'EmployeId', 'Age',\n",
       "       'Qualifications', 'EmployeSatisfaction', 'JobEngagement', 'JobLevel',\n",
       "       'JobSatisfaction', 'DailyBilling', 'HourBilling', 'MonthlyBilling',\n",
       "       'MonthlyRate', 'Work Experience', 'PercentSalaryHike', 'Last Rating',\n",
       "       'RelationshipSatisfaction', 'StockOptionLevel', 'TrainingTimesLastYear',\n",
       "       'Work&Life', 'YearsAtCompany', 'YearsInCurrentRole',\n",
       "       'YearsSinceLastPromotion', 'YearsWithCurrentManager',\n",
       "       'DistanceFromHome'],\n",
       "      dtype='object')"
      ]
     },
     "execution_count": 26,
     "metadata": {},
     "output_type": "execute_result"
    }
   ],
   "source": [
    "emp.columns"
   ]
  },
  {
   "cell_type": "code",
   "execution_count": null,
   "id": "5c611eeb",
   "metadata": {},
   "outputs": [],
   "source": [
    "#Hence the Hours column has removed from the above dataset"
   ]
  },
  {
   "cell_type": "code",
   "execution_count": 27,
   "id": "d9cef104",
   "metadata": {},
   "outputs": [
    {
     "data": {
      "text/plain": [
       "<AxesSubplot:xlabel='Age', ylabel='Turnover'>"
      ]
     },
     "execution_count": 27,
     "metadata": {},
     "output_type": "execute_result"
    },
    {
     "data": {
      "image/png": "[encoded data removed]",
      "text/plain": [
       "<Figure size 432x288 with 1 Axes>"
      ]
     },
     "metadata": {
      "needs_background": "light"
     },
     "output_type": "display_data"
    }
   ],
   "source": [
    "sns.lineplot( emp['Age'], emp['Turnover'])\n",
    "#We can see that AGE is not having ZERO VARIANCE, so we cannot remove this feature."
   ]
  },
  {
   "cell_type": "code",
   "execution_count": 28,
   "id": "1fd4b690",
   "metadata": {},
   "outputs": [
    {
     "data": {
      "text/plain": [
       "<AxesSubplot:xlabel='Gender', ylabel='Turnover'>"
      ]
     },
     "execution_count": 28,
     "metadata": {},
     "output_type": "execute_result"
    },
    {
     "data": {
      "image/png": "[encoded data removed]",
      "text/plain": [
       "<Figure size 432x288 with 1 Axes>"
      ]
     },
     "metadata": {
      "needs_background": "light"
     },
     "output_type": "display_data"
    }
   ],
   "source": [
    "sns.lineplot( emp['Gender'], emp['Turnover'])\n",
    "#We can see that Gender is having ZERO VARIANCE, so we can remove this feature."
   ]
  },
  {
   "cell_type": "code",
   "execution_count": 29,
   "id": "8d651258",
   "metadata": {},
   "outputs": [],
   "source": [
    "emp.drop('Gender',axis=1, inplace=True)"
   ]
  },
  {
   "cell_type": "code",
   "execution_count": 30,
   "id": "c1021b9f",
   "metadata": {},
   "outputs": [
    {
     "data": {
      "text/plain": [
       "Index(['MaritalStatus', 'Turnover', 'Travelling', 'Vertical', 'EducationField',\n",
       "       'Role', 'OverTime', 'EmployeId', 'Age', 'Qualifications',\n",
       "       'EmployeSatisfaction', 'JobEngagement', 'JobLevel', 'JobSatisfaction',\n",
       "       'DailyBilling', 'HourBilling', 'MonthlyBilling', 'MonthlyRate',\n",
       "       'Work Experience', 'PercentSalaryHike', 'Last Rating',\n",
       "       'RelationshipSatisfaction', 'StockOptionLevel', 'TrainingTimesLastYear',\n",
       "       'Work&Life', 'YearsAtCompany', 'YearsInCurrentRole',\n",
       "       'YearsSinceLastPromotion', 'YearsWithCurrentManager',\n",
       "       'DistanceFromHome'],\n",
       "      dtype='object')"
      ]
     },
     "execution_count": 30,
     "metadata": {},
     "output_type": "execute_result"
    }
   ],
   "source": [
    "emp.columns"
   ]
  },
  {
   "cell_type": "code",
   "execution_count": null,
   "id": "37e456b6",
   "metadata": {},
   "outputs": [],
   "source": [
    "#Hence the gender column has removed from the above dataset"
   ]
  },
  {
   "cell_type": "code",
   "execution_count": 31,
   "id": "42db9e51",
   "metadata": {},
   "outputs": [
    {
     "data": {
      "text/plain": [
       "<AxesSubplot:xlabel='MaritalStatus', ylabel='Turnover'>"
      ]
     },
     "execution_count": 31,
     "metadata": {},
     "output_type": "execute_result"
    },
    {
     "data": {
      "image/png": "[encoded data removed]",
      "text/plain": [
       "<Figure size 432x288 with 1 Axes>"
      ]
     },
     "metadata": {
      "needs_background": "light"
     },
     "output_type": "display_data"
    }
   ],
   "source": [
    "sns.lineplot( emp['MaritalStatus'], emp['Turnover'])\n",
    "#This feature is not having ZERO VARIANCE, hence it cannot be removed."
   ]
  },
  {
   "cell_type": "code",
   "execution_count": 36,
   "id": "7b5de169",
   "metadata": {},
   "outputs": [
    {
     "data": {
      "text/plain": [
       "<AxesSubplot:xlabel='Age', ylabel='Turnover'>"
      ]
     },
     "execution_count": 36,
     "metadata": {},
     "output_type": "execute_result"
    },
    {
     "data": {
      "image/png": "[encoded data removed]",
      "text/plain": [
       "<Figure size 432x288 with 1 Axes>"
      ]
     },
     "metadata": {
      "needs_background": "light"
     },
     "output_type": "display_data"
    }
   ],
   "source": [
    "sns.lineplot( emp['Age'], emp['Turnover'])\n",
    "#This feature is not having ZERO VARIANCE, hence it cannot be removed."
   ]
  },
  {
   "cell_type": "code",
   "execution_count": 33,
   "id": "bcecb8c9",
   "metadata": {},
   "outputs": [
    {
     "data": {
      "text/plain": [
       "<AxesSubplot:xlabel='DistanceFromHome', ylabel='Turnover'>"
      ]
     },
     "execution_count": 33,
     "metadata": {},
     "output_type": "execute_result"
    },
    {
     "data": {
      "image/png": "[encoded data removed]",
      "text/plain": [
       "<Figure size 432x288 with 1 Axes>"
      ]
     },
     "metadata": {
      "needs_background": "light"
     },
     "output_type": "display_data"
    }
   ],
   "source": [
    "sns.lineplot(emp['DistanceFromHome'], emp['Turnover'])\n",
    "#This feature is not having ZERO VARIANCE, hence it cannot be removed."
   ]
  },
  {
   "cell_type": "code",
   "execution_count": 34,
   "id": "4651395f",
   "metadata": {},
   "outputs": [
    {
     "data": {
      "text/plain": [
       "<AxesSubplot:xlabel='YearsWithCurrentManager', ylabel='Turnover'>"
      ]
     },
     "execution_count": 34,
     "metadata": {},
     "output_type": "execute_result"
    },
    {
     "data": {
      "image/png": "[encoded data removed]",
      "text/plain": [
       "<Figure size 432x288 with 1 Axes>"
      ]
     },
     "metadata": {
      "needs_background": "light"
     },
     "output_type": "display_data"
    }
   ],
   "source": [
    "sns.lineplot(emp['YearsWithCurrentManager'], emp['Turnover'])\n",
    "#This feature is not having ZERO VARIANCE, hence it cannot be removed."
   ]
  },
  {
   "cell_type": "code",
   "execution_count": 35,
   "id": "f0101b84",
   "metadata": {},
   "outputs": [
    {
     "data": {
      "text/plain": [
       "<AxesSubplot:xlabel='YearsSinceLastPromotion', ylabel='Turnover'>"
      ]
     },
     "execution_count": 35,
     "metadata": {},
     "output_type": "execute_result"
    },
    {
     "data": {
      "image/png": "[encoded data removed]",
      "text/plain": [
       "<Figure size 432x288 with 1 Axes>"
      ]
     },
     "metadata": {
      "needs_background": "light"
     },
     "output_type": "display_data"
    }
   ],
   "source": [
    "sns.lineplot(emp['YearsSinceLastPromotion'], emp['Turnover'])\n",
    "#This feature is not having ZERO VARIANCE, hence it cannot be removed."
   ]
  },
  {
   "cell_type": "code",
   "execution_count": 37,
   "id": "2bb4d322",
   "metadata": {},
   "outputs": [
    {
     "data": {
      "text/plain": [
       "<AxesSubplot:xlabel='Qualifications', ylabel='Turnover'>"
      ]
     },
     "execution_count": 37,
     "metadata": {},
     "output_type": "execute_result"
    },
    {
     "data": {
      "image/png": "[encoded data removed]",
      "text/plain": [
       "<Figure size 432x288 with 1 Axes>"
      ]
     },
     "metadata": {
      "needs_background": "light"
     },
     "output_type": "display_data"
    }
   ],
   "source": [
    "sns.lineplot(emp['Qualifications'], emp['Turnover'])\n",
    "#This feature is not having ZERO VARIANCE, hence it cannot be removed."
   ]
  },
  {
   "cell_type": "code",
   "execution_count": 38,
   "id": "c09e0aba",
   "metadata": {},
   "outputs": [
    {
     "data": {
      "text/plain": [
       "<AxesSubplot:xlabel='EmployeSatisfaction', ylabel='Turnover'>"
      ]
     },
     "execution_count": 38,
     "metadata": {},
     "output_type": "execute_result"
    },
    {
     "data": {
      "image/png": "[encoded data removed]",
      "text/plain": [
       "<Figure size 432x288 with 1 Axes>"
      ]
     },
     "metadata": {
      "needs_background": "light"
     },
     "output_type": "display_data"
    }
   ],
   "source": [
    "sns.lineplot(emp['EmployeSatisfaction'], emp['Turnover'])\n",
    "#This feature is not having ZERO VARIANCE, hence it cannot be removed."
   ]
  },
  {
   "cell_type": "code",
   "execution_count": 39,
   "id": "d6fd88a6",
   "metadata": {},
   "outputs": [
    {
     "data": {
      "text/plain": [
       "<AxesSubplot:xlabel='JobEngagement', ylabel='Turnover'>"
      ]
     },
     "execution_count": 39,
     "metadata": {},
     "output_type": "execute_result"
    },
    {
     "data": {
      "image/png": "[encoded data removed]",
      "text/plain": [
       "<Figure size 432x288 with 1 Axes>"
      ]
     },
     "metadata": {
      "needs_background": "light"
     },
     "output_type": "display_data"
    }
   ],
   "source": [
    "sns.lineplot(emp['JobEngagement'], emp['Turnover'])\n",
    "#This feature is not having ZERO VARIANCE, hence it cannot be removed."
   ]
  },
  {
   "cell_type": "code",
   "execution_count": 40,
   "id": "28c6da6f",
   "metadata": {},
   "outputs": [
    {
     "data": {
      "text/plain": [
       "<AxesSubplot:xlabel='JobLevel', ylabel='Turnover'>"
      ]
     },
     "execution_count": 40,
     "metadata": {},
     "output_type": "execute_result"
    },
    {
     "data": {
      "image/png": "[encoded data removed]",
      "text/plain": [
       "<Figure size 432x288 with 1 Axes>"
      ]
     },
     "metadata": {
      "needs_background": "light"
     },
     "output_type": "display_data"
    }
   ],
   "source": [
    "sns.lineplot(emp['JobLevel'], emp['Turnover'])\n",
    "#This feature is not having ZERO VARIANCE, hence it cannot be removed."
   ]
  },
  {
   "cell_type": "code",
   "execution_count": 41,
   "id": "ec4fcf3f",
   "metadata": {},
   "outputs": [
    {
     "data": {
      "text/plain": [
       "<AxesSubplot:xlabel='JobSatisfaction', ylabel='Turnover'>"
      ]
     },
     "execution_count": 41,
     "metadata": {},
     "output_type": "execute_result"
    },
    {
     "data": {
      "image/png": "[encoded data removed]",
      "text/plain": [
       "<Figure size 432x288 with 1 Axes>"
      ]
     },
     "metadata": {
      "needs_background": "light"
     },
     "output_type": "display_data"
    }
   ],
   "source": [
    "sns.lineplot(emp['JobSatisfaction'], emp['Turnover'])\n",
    "#This feature is not having ZERO VARIANCE, hence it cannot be removed."
   ]
  },
  {
   "cell_type": "code",
   "execution_count": 42,
   "id": "a1e63751",
   "metadata": {},
   "outputs": [
    {
     "data": {
      "text/plain": [
       "<AxesSubplot:xlabel='RelationshipSatisfaction', ylabel='Turnover'>"
      ]
     },
     "execution_count": 42,
     "metadata": {},
     "output_type": "execute_result"
    },
    {
     "data": {
      "image/png": "[encoded data removed]",
      "text/plain": [
       "<Figure size 432x288 with 1 Axes>"
      ]
     },
     "metadata": {
      "needs_background": "light"
     },
     "output_type": "display_data"
    }
   ],
   "source": [
    "sns.lineplot(emp['RelationshipSatisfaction'], emp['Turnover'])\n",
    "#This feature is not having ZERO VARIANCE, hence it cannot be removed."
   ]
  },
  {
   "cell_type": "code",
   "execution_count": 43,
   "id": "e77abf12",
   "metadata": {},
   "outputs": [
    {
     "data": {
      "text/plain": [
       "<AxesSubplot:xlabel='TrainingTimesLastYear', ylabel='Turnover'>"
      ]
     },
     "execution_count": 43,
     "metadata": {},
     "output_type": "execute_result"
    },
    {
     "data": {
      "image/png": "[encoded data removed]",
      "text/plain": [
       "<Figure size 432x288 with 1 Axes>"
      ]
     },
     "metadata": {
      "needs_background": "light"
     },
     "output_type": "display_data"
    }
   ],
   "source": [
    "sns.lineplot(emp['TrainingTimesLastYear'], emp['Turnover'])\n",
    "#This feature is not having ZERO VARIANCE, hence it cannot be removed."
   ]
  },
  {
   "cell_type": "code",
   "execution_count": 44,
   "id": "d4c09780",
   "metadata": {},
   "outputs": [
    {
     "data": {
      "text/plain": [
       "<AxesSubplot:xlabel='StockOptionLevel', ylabel='Turnover'>"
      ]
     },
     "execution_count": 44,
     "metadata": {},
     "output_type": "execute_result"
    },
    {
     "data": {
      "image/png": "[encoded data removed]",
      "text/plain": [
       "<Figure size 432x288 with 1 Axes>"
      ]
     },
     "metadata": {
      "needs_background": "light"
     },
     "output_type": "display_data"
    }
   ],
   "source": [
    "sns.lineplot(emp['StockOptionLevel'], emp['Turnover'])\n",
    "#This feature is not having ZERO VARIANCE, hence it cannot be removed."
   ]
  },
  {
   "cell_type": "code",
   "execution_count": 45,
   "id": "dace0713",
   "metadata": {},
   "outputs": [
    {
     "data": {
      "text/html": [
       "<div>\n",
       "<style scoped>\n",
       "    .dataframe tbody tr th:only-of-type {\n",
       "        vertical-align: middle;\n",
       "    }\n",
       "\n",
       "    .dataframe tbody tr th {\n",
       "        vertical-align: top;\n",
       "    }\n",
       "\n",
       "    .dataframe thead th {\n",
       "        text-align: right;\n",
       "    }\n",
       "</style>\n",
       "<table border=\"1\" class=\"dataframe\">\n",
       "  <thead>\n",
       "    <tr style=\"text-align: right;\">\n",
       "      <th></th>\n",
       "      <th>MaritalStatus</th>\n",
       "      <th>Turnover</th>\n",
       "      <th>Travelling</th>\n",
       "      <th>Vertical</th>\n",
       "      <th>EducationField</th>\n",
       "      <th>Role</th>\n",
       "      <th>OverTime</th>\n",
       "      <th>EmployeId</th>\n",
       "      <th>Age</th>\n",
       "      <th>Qualifications</th>\n",
       "      <th>...</th>\n",
       "      <th>Last Rating</th>\n",
       "      <th>RelationshipSatisfaction</th>\n",
       "      <th>StockOptionLevel</th>\n",
       "      <th>TrainingTimesLastYear</th>\n",
       "      <th>Work&amp;Life</th>\n",
       "      <th>YearsAtCompany</th>\n",
       "      <th>YearsInCurrentRole</th>\n",
       "      <th>YearsSinceLastPromotion</th>\n",
       "      <th>YearsWithCurrentManager</th>\n",
       "      <th>DistanceFromHome</th>\n",
       "    </tr>\n",
       "  </thead>\n",
       "  <tbody>\n",
       "    <tr>\n",
       "      <th>0</th>\n",
       "      <td>0</td>\n",
       "      <td>0</td>\n",
       "      <td>2</td>\n",
       "      <td>Research &amp; Development</td>\n",
       "      <td>Medical</td>\n",
       "      <td>Laboratory Technician</td>\n",
       "      <td>0</td>\n",
       "      <td>63</td>\n",
       "      <td>29</td>\n",
       "      <td>1</td>\n",
       "      <td>...</td>\n",
       "      <td>4</td>\n",
       "      <td>4</td>\n",
       "      <td>1</td>\n",
       "      <td>2</td>\n",
       "      <td>3</td>\n",
       "      <td>3</td>\n",
       "      <td>2</td>\n",
       "      <td>2</td>\n",
       "      <td>2</td>\n",
       "      <td>2</td>\n",
       "    </tr>\n",
       "    <tr>\n",
       "      <th>1</th>\n",
       "      <td>2</td>\n",
       "      <td>0</td>\n",
       "      <td>0</td>\n",
       "      <td>Sales</td>\n",
       "      <td>Life Sciences</td>\n",
       "      <td>Sales Representative</td>\n",
       "      <td>0</td>\n",
       "      <td>723</td>\n",
       "      <td>23</td>\n",
       "      <td>1</td>\n",
       "      <td>...</td>\n",
       "      <td>3</td>\n",
       "      <td>4</td>\n",
       "      <td>0</td>\n",
       "      <td>3</td>\n",
       "      <td>3</td>\n",
       "      <td>1</td>\n",
       "      <td>0</td>\n",
       "      <td>0</td>\n",
       "      <td>0</td>\n",
       "      <td>6</td>\n",
       "    </tr>\n",
       "    <tr>\n",
       "      <th>2</th>\n",
       "      <td>2</td>\n",
       "      <td>1</td>\n",
       "      <td>2</td>\n",
       "      <td>Human Resources</td>\n",
       "      <td>Life Sciences</td>\n",
       "      <td>Manager</td>\n",
       "      <td>0</td>\n",
       "      <td>1297</td>\n",
       "      <td>36</td>\n",
       "      <td>4</td>\n",
       "      <td>...</td>\n",
       "      <td>3</td>\n",
       "      <td>3</td>\n",
       "      <td>0</td>\n",
       "      <td>3</td>\n",
       "      <td>4</td>\n",
       "      <td>7</td>\n",
       "      <td>7</td>\n",
       "      <td>0</td>\n",
       "      <td>0</td>\n",
       "      <td>10</td>\n",
       "    </tr>\n",
       "    <tr>\n",
       "      <th>3</th>\n",
       "      <td>0</td>\n",
       "      <td>0</td>\n",
       "      <td>2</td>\n",
       "      <td>Research &amp; Development</td>\n",
       "      <td>Medical</td>\n",
       "      <td>Manufacturing Director</td>\n",
       "      <td>0</td>\n",
       "      <td>51</td>\n",
       "      <td>30</td>\n",
       "      <td>4</td>\n",
       "      <td>...</td>\n",
       "      <td>3</td>\n",
       "      <td>2</td>\n",
       "      <td>3</td>\n",
       "      <td>5</td>\n",
       "      <td>3</td>\n",
       "      <td>10</td>\n",
       "      <td>6</td>\n",
       "      <td>3</td>\n",
       "      <td>9</td>\n",
       "      <td>12</td>\n",
       "    </tr>\n",
       "    <tr>\n",
       "      <th>4</th>\n",
       "      <td>2</td>\n",
       "      <td>1</td>\n",
       "      <td>2</td>\n",
       "      <td>Sales</td>\n",
       "      <td>Technical Degree</td>\n",
       "      <td>Sales Representative</td>\n",
       "      <td>0</td>\n",
       "      <td>1498</td>\n",
       "      <td>29</td>\n",
       "      <td>3</td>\n",
       "      <td>...</td>\n",
       "      <td>3</td>\n",
       "      <td>1</td>\n",
       "      <td>0</td>\n",
       "      <td>2</td>\n",
       "      <td>3</td>\n",
       "      <td>3</td>\n",
       "      <td>2</td>\n",
       "      <td>2</td>\n",
       "      <td>2</td>\n",
       "      <td>24</td>\n",
       "    </tr>\n",
       "  </tbody>\n",
       "</table>\n",
       "<p>5 rows × 30 columns</p>\n",
       "</div>"
      ],
      "text/plain": [
       "   MaritalStatus  Turnover  Travelling                Vertical  \\\n",
       "0              0         0           2  Research & Development   \n",
       "1              2         0           0                   Sales   \n",
       "2              2         1           2         Human Resources   \n",
       "3              0         0           2  Research & Development   \n",
       "4              2         1           2                   Sales   \n",
       "\n",
       "     EducationField                    Role  OverTime  EmployeId  Age  \\\n",
       "0           Medical   Laboratory Technician         0         63   29   \n",
       "1     Life Sciences    Sales Representative         0        723   23   \n",
       "2     Life Sciences                 Manager         0       1297   36   \n",
       "3           Medical  Manufacturing Director         0         51   30   \n",
       "4  Technical Degree    Sales Representative         0       1498   29   \n",
       "\n",
       "   Qualifications  ...  Last Rating  RelationshipSatisfaction  \\\n",
       "0               1  ...            4                         4   \n",
       "1               1  ...            3                         4   \n",
       "2               4  ...            3                         3   \n",
       "3               4  ...            3                         2   \n",
       "4               3  ...            3                         1   \n",
       "\n",
       "   StockOptionLevel  TrainingTimesLastYear  Work&Life  YearsAtCompany  \\\n",
       "0                 1                      2          3               3   \n",
       "1                 0                      3          3               1   \n",
       "2                 0                      3          4               7   \n",
       "3                 3                      5          3              10   \n",
       "4                 0                      2          3               3   \n",
       "\n",
       "   YearsInCurrentRole  YearsSinceLastPromotion  YearsWithCurrentManager  \\\n",
       "0                   2                        2                        2   \n",
       "1                   0                        0                        0   \n",
       "2                   7                        0                        0   \n",
       "3                   6                        3                        9   \n",
       "4                   2                        2                        2   \n",
       "\n",
       "   DistanceFromHome  \n",
       "0                 2  \n",
       "1                 6  \n",
       "2                10  \n",
       "3                12  \n",
       "4                24  \n",
       "\n",
       "[5 rows x 30 columns]"
      ]
     },
     "execution_count": 45,
     "metadata": {},
     "output_type": "execute_result"
    }
   ],
   "source": [
    "emp.head()"
   ]
  },
  {
   "cell_type": "code",
   "execution_count": 46,
   "id": "7fdafaae",
   "metadata": {},
   "outputs": [
    {
     "data": {
      "text/plain": [
       "Index(['MaritalStatus', 'Turnover', 'Travelling', 'Vertical', 'EducationField',\n",
       "       'Role', 'OverTime', 'EmployeId', 'Age', 'Qualifications',\n",
       "       'EmployeSatisfaction', 'JobEngagement', 'JobLevel', 'JobSatisfaction',\n",
       "       'DailyBilling', 'HourBilling', 'MonthlyBilling', 'MonthlyRate',\n",
       "       'Work Experience', 'PercentSalaryHike', 'Last Rating',\n",
       "       'RelationshipSatisfaction', 'StockOptionLevel', 'TrainingTimesLastYear',\n",
       "       'Work&Life', 'YearsAtCompany', 'YearsInCurrentRole',\n",
       "       'YearsSinceLastPromotion', 'YearsWithCurrentManager',\n",
       "       'DistanceFromHome'],\n",
       "      dtype='object')"
      ]
     },
     "execution_count": 46,
     "metadata": {},
     "output_type": "execute_result"
    }
   ],
   "source": [
    "emp.columns"
   ]
  },
  {
   "cell_type": "code",
   "execution_count": 47,
   "id": "3248a33f",
   "metadata": {},
   "outputs": [],
   "source": [
    "#Hence hours and Gender columns has removed from the dataset due to Zero variance."
   ]
  },
  {
   "cell_type": "markdown",
   "id": "1ff41484",
   "metadata": {},
   "source": [
    "# Conclusion\n",
    "\n",
    "In the above dataset, we apply feature selection on categorical as well as numerical features to find the insights.Based on the zero variance, we dropped the hours and gender column  and using seaborn to visualize all the columns.Finally we dropped unwanted columns from the dataset.\n"
   ]
  }
 ],
 "metadata": {
  "kernelspec": {
   "display_name": "Python 3 (ipykernel)",
   "language": "python",
   "name": "python3"
  },
  "language_info": {
   "codemirror_mode": {
    "name": "ipython",
    "version": 3
   },
   "file_extension": ".py",
   "mimetype": "text/x-python",
   "name": "python",
   "nbconvert_exporter": "python",
   "pygments_lexer": "ipython3",
   "version": "3.9.7"
  }
 },
 "nbformat": 4,
 "nbformat_minor": 5
}
